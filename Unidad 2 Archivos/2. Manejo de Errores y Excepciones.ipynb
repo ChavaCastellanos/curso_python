{
 "cells": [
  {
   "cell_type": "markdown",
   "id": "dd52d054",
   "metadata": {},
   "source": [
    "# Actividad 2: Manejo de Errores y Excepciones"
   ]
  },
  {
   "cell_type": "code",
   "execution_count": null,
   "id": "898dea70",
   "metadata": {
    "vscode": {
     "languageId": "plaintext"
    }
   },
   "outputs": [],
   "source": []
  }
 ],
 "metadata": {
  "language_info": {
   "name": "python"
  }
 },
 "nbformat": 4,
 "nbformat_minor": 5
}
