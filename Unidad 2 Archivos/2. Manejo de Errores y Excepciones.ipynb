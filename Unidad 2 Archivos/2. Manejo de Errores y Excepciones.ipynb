{
 "cells": [
  {
   "cell_type": "markdown",
   "id": "dd52d054",
   "metadata": {},
   "source": [
    "# Actividad 2: Manejo de Errores y Excepciones\n",
    "\n",
    "## Errores básicos\n",
    "Descomenta las líneas en la siguiente celda para ver los errores más comunes."
   ]
  },
  {
   "cell_type": "code",
   "execution_count": null,
   "id": "898dea70",
   "metadata": {},
   "outputs": [],
   "source": [
    "# SyntaxError\n",
    "# print(\"Hola mundo'  # Descomentar para ver error\n",
    "\n",
    "# NameError\n",
    "# print(variable_inexistente)  # Descomentar para ver error\n",
    "\n",
    "# TypeError\n",
    "# resultado = \"5\" + 3  # Descomentar para ver error\n",
    "\n",
    "# IndexError\n",
    "# lista = [1, 2, 3]\n",
    "# print(lista[5])  # Descomentar para ver error\n",
    "\n",
    "# KeyError\n",
    "# diccionario = {\"a\": 1}\n",
    "# print(diccionario[\"b\"])  # Descomentar para ver error\n",
    "\n",
    "# ValueError\n",
    "# numero = int(\"abc\")  # Descomentar para ver error\n",
    "\n",
    "# ZeroDivisionError\n",
    "# resultado = 10 / 0  # Descomentar para ver error"
   ]
  },
  {
   "cell_type": "markdown",
   "id": "471ac778",
   "metadata": {},
   "source": [
    "## Manejo básico de excepciones\n",
    "\n",
    "### Try-Except\n",
    "\n",
    "Usa la estructura Try-Except\n",
    "\n",
    "```\n",
    "try:\n",
    "    ...\n",
    "\n",
    "except ValueError:\n",
    "    ...\n",
    "\n",
    "except ZeroDivisionError:\n",
    "    ...\n",
    "\n",
    "except Exception as e:\n",
    "    ...\n",
    "\n",
    "```\n",
    "\n",
    "En la sección `try` pide al usuario que introduzca dos números para hacer una división.\n",
    "En cada una de las secciones de excepciones, imprime un mensaje que diga \"Error: ...\" donde des instrucciones al usuario para evitar ese tipo de error.\n",
    "Investiga qué quiere decir cada uno de los tipos de error.\n",
    "En la última da un mensaje de que no se reconoció el error e imprime el código de error."
   ]
  },
  {
   "cell_type": "code",
   "execution_count": null,
   "id": "1c94276a",
   "metadata": {},
   "outputs": [],
   "source": []
  },
  {
   "cell_type": "markdown",
   "id": "8ebffc9f",
   "metadata": {},
   "source": [
    "\n",
    "### Try-Except-Else-Finally\n",
    "\n",
    "En la siguiente celda, usa la siguiente estructura para recolectar errores cuando el archivo no se encuentre y cuando el usuasrio no tenga el permiso necesario.\n",
    "Complétalo para que se muestren los mensajes correspondientes.\n",
    "En el bloque else indica que la lectura fue exitosa e imprime los primeros 50 caracteres.\n",
    "Por último, en el bloque finally imprime \"Ejecutando bloque finally - limpieza\" \n",
    "\n",
    "\n",
    "```\n",
    "try:\n",
    "        archivo = open(\"datos.txt\", \"r\")\n",
    "        contenido = archivo.read()\n",
    "        print(\"Leyendo archivo...\")\n",
    "        \n",
    "    except ... :\n",
    "        ...\n",
    "        \n",
    "    except ... :\n",
    "        ...\n",
    "        \n",
    "    else:\n",
    "        ... # Mostrar primeros 50 caracteres del archivo\n",
    "        \n",
    "    finally:\n",
    "        ...\n",
    "\n",
    "        try:\n",
    "            archivo.close()\n",
    "            print(\"Archivo cerrado\")\n",
    "        except:\n",
    "            pass\n",
    "```"
   ]
  },
  {
   "cell_type": "code",
   "execution_count": null,
   "id": "4551ea19",
   "metadata": {},
   "outputs": [],
   "source": []
  }
 ],
 "metadata": {
  "kernelspec": {
   "display_name": "robotica",
   "language": "python",
   "name": "python3"
  },
  "language_info": {
   "name": "python",
   "version": "3.13.5"
  }
 },
 "nbformat": 4,
 "nbformat_minor": 5
}
