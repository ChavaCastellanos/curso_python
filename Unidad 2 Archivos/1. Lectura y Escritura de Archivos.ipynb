{
 "cells": [
  {
   "cell_type": "markdown",
   "id": "a1005f79",
   "metadata": {},
   "source": [
    "# Actividad 1: Lectura y Escritura de Archivos\n",
    "En ocasiones, queremos guardar datos para ser usados después de cerrar un programa. El problema es que cada vez que un programa termina de ejecutarse, los valores que haya usado se borran de la memoria RAM. Es por esto que, si queremos mantener información después de ejecutado el programa, debemos guardarlos en archivos. Estos archivos se guardarán en el disco duro, SSD o cualquier otro tipo de almacenamiento permanente.\n",
    "\n",
    "Hay 3 etapas en el manejo de archivos en un programa:\n",
    "\n",
    "- Abrir el archivo.\n",
    "- Procesarlo.\n",
    "- Cerrar el archivo.\n",
    "\n",
    "Hay dos tipos principales de archivos, de texto y binarios. Un archivo de texto tiene información que ha sido codificada como texto usando algún esquema como ASCII o *Unicode*. Estos archivos puede abrirse fácilmente con un editor de texto y pueden ser leídos por humanos. En cambio, en un archivo binario la información no está codificada como texto y, por lo tanto, no puede ser leído con un editor de texto.\n",
    "Python puede procesar ambos tipos de archivos, pero nos enfocaremos en los de texto ya que podemos monitorear fácilmente qué es lo que se está guardando en ellos."
   ]
  },
  {
   "cell_type": "code",
   "execution_count": null,
   "id": "4be81832",
   "metadata": {
    "vscode": {
     "languageId": "plaintext"
    }
   },
   "outputs": [],
   "source": []
  },
  {
   "cell_type": "markdown",
   "id": "1599570c",
   "metadata": {},
   "source": []
  }
 ],
 "metadata": {
  "language_info": {
   "name": "python"
  }
 },
 "nbformat": 4,
 "nbformat_minor": 5
}
