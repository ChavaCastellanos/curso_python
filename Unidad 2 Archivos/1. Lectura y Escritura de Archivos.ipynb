{
 "cells": [
  {
   "cell_type": "markdown",
   "id": "a1005f79",
   "metadata": {},
   "source": [
    "# Actividad 1: Lectura y Escritura de Archivos\n",
    "En ocasiones, queremos guardar datos para ser usados después de cerrar un programa. El problema es que cada vez que un programa termina de ejecutarse, los valores que haya usado se borran de la memoria RAM. Es por esto que, si queremos mantener información después de ejecutado el programa, debemos guardarlos en archivos. Estos archivos se guardarán en el disco duro, SSD o cualquier otro tipo de almacenamiento permanente.\n",
    "\n",
    "Hay 3 etapas en el manejo de archivos en un programa:\n",
    "\n",
    "- Abrir el archivo.\n",
    "- Procesarlo.\n",
    "- Cerrar el archivo.\n",
    "\n",
    "## Tipos de archivos\n",
    "Hay dos tipos principales de archivos:\n",
    "- de texto y\n",
    "- binarios. \n",
    "\n",
    "Un **archivo de texto** tiene información que ha sido codificada como texto usando algún esquema como ASCII o *Unicode*. Estos archivos puede abrirse fácilmente con un editor de texto y pueden ser leídos por humanos. \n",
    "\n",
    "En cambio, en un **archivo binario** la información no está codificada como texto y, por lo tanto, no puede ser leído con un editor de texto.\n",
    "\n",
    "Python puede procesar ambos tipos de archivos, pero nos enfocaremos en los de texto ya que podemos monitorear fácilmente qué es lo que se está guardando en ellos.\n",
    "\n",
    "## Métodos de acceso a archivos\n",
    "\n",
    "La mayoría de los lenguajes de programación tienen dos formas diferentes de accesar a los archivos: **secuencial** y **directa**.\n",
    "\n",
    "Cuando trabajes con un archivo de **acceso secuencial**, accedes a los datos desde el inicio del archivo hasta el final de este. Si quieres leer un dato que está guardado hasta el final del archivo tienes que leer todos los datos que estén antes de él, no puedes saltar directamente al dato deseado.\n",
    "\n",
    "En cambio, cuando trabajes con archivos de **acceso directo** (también llamados archivos de acceso aleatorio), puedes saltar directamente a cualquier dato en el archivo sin tener que leer los datos que vengan antes.\n",
    "\n",
    "En este curso, veremos principalmente archivos de acceso secuencial.\n",
    "\n",
    "## Nombres de archivos\n",
    "\n",
    "La mayoría de las computadoras utilizan los nombres de archivos para poder identificarlos y diferenciarlos. Estos nombres, normalmente, usan una terminación o extensión, identificada por estar después de un punto, para definir el tipo de archivo. Por ejemplo, *gato.jpg*, *notas.txt*, *tésis.docx*. \n",
    "\n",
    "## Objetos de archivo\n",
    "\n",
    "Un objeto de archivo (*file object*) es un objeto asociado a un archivo en específico y proveé al programa de la capacidad de trabajar con dicho archivo.\n",
    "\n",
    "## Abrir y cerrar un archivo\n",
    "\n",
    "En Python, usamos la función `open` para abrir un archivo.\n",
    "\n",
    "`variable_de_archivo = open(nombre_archivo, modo)`\n",
    "\n",
    "El formato general:\n",
    "- `variable_de_archivo` es el nombre de la variable que referencía al archivo.\n",
    "- `nombre_archivo` es un *string* que especifica el nombre del archivo y, en algunos casos, también su ubicación.\n",
    "- `modo` es un *string* que especifica el modo, ya sea de lectura o escritura.\n",
    "\n",
    "Una vez hayas terminado de acceder a la información necesaria, cierra el archivo con la función `close`.\n",
    "\n",
    "Usa esta función para abrir el archivo clientes.txt en modo de lectura `'r'`. No olvides cerrar el archivo."
   ]
  },
  {
   "cell_type": "code",
   "execution_count": null,
   "id": "d8dccf83",
   "metadata": {},
   "outputs": [],
   "source": []
  },
  {
   "cell_type": "markdown",
   "id": "fbd01ecb",
   "metadata": {},
   "source": [
    "## Leer un archivo\n",
    "Para leer un archivo usa la funición `read`.\n",
    "Abre el archivo clientes.txt, luego imprime los nombres de los clientes, por último, cierra el archivo."
   ]
  },
  {
   "cell_type": "code",
   "execution_count": null,
   "id": "e7039281",
   "metadata": {},
   "outputs": [],
   "source": []
  },
  {
   "cell_type": "markdown",
   "id": "1599570c",
   "metadata": {},
   "source": [
    "## Escribir datos en un archivo\n",
    "\n",
    "Escribir datos en un archivo de texto es muy similar a la lectura. Hay que abrir el archivo en modo de escritura `'w'`, usar la función `write` para escribir en el archivo y por último cerrar el archivo.\n",
    "\n",
    "Escribe a continuación un archivo llamado filosofos.txt con los nombres de los cinco filósofos como se muestra a continuación\n",
    "\n",
    "Aristóteles \\\n",
    "Michel Foucault \\\n",
    "René Descartes \\\n",
    "Friedrich Hegel \\\n",
    "Karl Marx\n",
    "\n",
    "Ojo, debe haber un salto de línea después del nombre de cada filósofo."
   ]
  },
  {
   "cell_type": "code",
   "execution_count": null,
   "id": "75125190",
   "metadata": {},
   "outputs": [],
   "source": []
  },
  {
   "cell_type": "markdown",
   "id": "c5d8380c",
   "metadata": {},
   "source": [
    "Investiga cómo funciona la función `readline` para imprimir el contenido de tu archivo `filosofos.txt` ."
   ]
  },
  {
   "cell_type": "code",
   "execution_count": null,
   "id": "02b00f87",
   "metadata": {},
   "outputs": [],
   "source": []
  },
  {
   "cell_type": "markdown",
   "id": "350bff1e",
   "metadata": {},
   "source": [
    "Ahora escribe en la siguiente celda el código para pedirle al usuario 3 nombres, luego escríbelos en un archivo llamdao amigos.txt.\n",
    "\n",
    "Recuerda insertar saltos de línea para que el archivo tenga forma de lista."
   ]
  },
  {
   "cell_type": "code",
   "execution_count": null,
   "id": "bf2223d8",
   "metadata": {},
   "outputs": [],
   "source": []
  },
  {
   "cell_type": "markdown",
   "id": "5f305490",
   "metadata": {},
   "source": [
    "## Añadir datos a un archivo existente.\n",
    "\n",
    "Cuando usas el modo `'w'` de escritura en un nombre de archivo ya existente el archivo viejo se borrará y se creará uno nuevo.\n",
    "Si lo que quieres es añadir datos al archivo que ya existe, usa el modo `'a'` de *append*.\n",
    "\n",
    "Utiliza el modo `'a'`, para añadir el nombre de otros dos amigos a tu lista."
   ]
  },
  {
   "cell_type": "code",
   "execution_count": null,
   "id": "3fe74b11",
   "metadata": {},
   "outputs": [],
   "source": []
  },
  {
   "cell_type": "markdown",
   "id": "d3ac64a0",
   "metadata": {},
   "source": [
    "# Uso de 'with'\n",
    "Puedes usar la estructura with para abrir un archivo. Investiga cómo usarlo aquí para leer el archivo clientes.\n",
    "\n",
    "```\n",
    "with open('nombre_del_archivo.txt','r') as file:\n",
    "    instruccion_1\n",
    "    instruccion_2\n",
    "```"
   ]
  },
  {
   "cell_type": "code",
   "execution_count": null,
   "id": "0b767263",
   "metadata": {},
   "outputs": [],
   "source": []
  },
  {
   "cell_type": "markdown",
   "id": "7aa5dc34",
   "metadata": {},
   "source": [
    "Usa la estructura `with` para leer los primeros 7 caracteres del archivo clientes y mostrarlos en terminal."
   ]
  },
  {
   "cell_type": "code",
   "execution_count": null,
   "id": "94c4eb97",
   "metadata": {},
   "outputs": [],
   "source": []
  },
  {
   "cell_type": "markdown",
   "id": "e8f817af",
   "metadata": {},
   "source": [
    "De la misma forma, usa la estructura `with` para leer sólo la primera linea del archivo."
   ]
  },
  {
   "cell_type": "code",
   "execution_count": null,
   "id": "03ed7d27",
   "metadata": {},
   "outputs": [],
   "source": []
  },
  {
   "cell_type": "markdown",
   "id": "dbd135d7",
   "metadata": {},
   "source": [
    "Ahora imprime la primera y segunda linea del archivo."
   ]
  },
  {
   "cell_type": "code",
   "execution_count": null,
   "id": "c3e4edff",
   "metadata": {},
   "outputs": [],
   "source": []
  },
  {
   "cell_type": "markdown",
   "id": "a8f2a29b",
   "metadata": {},
   "source": [
    "Usa un ciclo for para imprimir cada una de las lineas dle archivo clientes.txt"
   ]
  },
  {
   "cell_type": "code",
   "execution_count": null,
   "id": "860fb2a6",
   "metadata": {},
   "outputs": [],
   "source": []
  },
  {
   "cell_type": "markdown",
   "id": "c62d56f0",
   "metadata": {},
   "source": [
    "Crea una lista de String donde cada elemento de la lista sea un verso del siguiente poema\n",
    "\n",
    "\n",
    "La luna se puede tomar a cucharadas\\\n",
    "o como una cápsula cada dos horas.\\\n",
    "Es buena como hipnótico y sedante\\\n",
    "y también alivia\\\n",
    "a los que se han intoxicado de filosofía. \n",
    "\n",
    "\n",
    "Usa la estructura `with` para escribirlo en un archivo `la_luna.txt`, donde cada elemento de la lista sea una línea del archivo."
   ]
  },
  {
   "cell_type": "code",
   "execution_count": null,
   "id": "ceff2b26",
   "metadata": {},
   "outputs": [],
   "source": []
  },
  {
   "cell_type": "markdown",
   "id": "50521b75",
   "metadata": {},
   "source": [
    "Ahora usa la estructura `with` y el modo 'a' para añadir las siguientes lineas al archivo.\n",
    "\n",
    "Un pedazo de luna en el bolsillo\\\n",
    "es mejor amuleto que la pata de conejo:\\\n",
    "sirve para encontrar a quien se ama,\\\n",
    "para ser rico sin que lo sepa nadie\\\n",
    "y para alejar a los médicos y las clínicas. \\"
   ]
  },
  {
   "cell_type": "code",
   "execution_count": null,
   "id": "2a7de32e",
   "metadata": {},
   "outputs": [],
   "source": []
  },
  {
   "cell_type": "markdown",
   "id": "02743c14",
   "metadata": {},
   "source": [
    "Usa la función `read(n)` para leer alguna posición `n` para leer una posición arbitraria del archivo. Luego usa la función `tell` para imprimir la posición actual en el archivo. "
   ]
  },
  {
   "cell_type": "code",
   "execution_count": null,
   "id": "be609594",
   "metadata": {},
   "outputs": [],
   "source": []
  },
  {
   "cell_type": "markdown",
   "id": "873900ed",
   "metadata": {},
   "source": [
    "Ahora usa la función seek para moverte a la posición 20 y luego usa `print` para mostrar el archivo a partir de la posición 20."
   ]
  },
  {
   "cell_type": "code",
   "execution_count": null,
   "id": "7db2695b",
   "metadata": {},
   "outputs": [],
   "source": []
  },
  {
   "cell_type": "markdown",
   "id": "8bf380a2",
   "metadata": {},
   "source": [
    "## Librería 'os'\n",
    "\n",
    "Usa la librería `os` en los siguientes ejercicios. Esta librería tiene todas las funciones necesarias para cada uno de ellos-"
   ]
  },
  {
   "cell_type": "code",
   "execution_count": null,
   "id": "2cf5ad40",
   "metadata": {},
   "outputs": [],
   "source": [
    "import os"
   ]
  },
  {
   "cell_type": "markdown",
   "id": "fb9defc4",
   "metadata": {},
   "source": [
    "Revisa si existe el archivo 'la_luna.txt', usa la siguiente función.\n",
    "\n",
    "`os.path.isfile('nombre_del_archivo.txt')`"
   ]
  },
  {
   "cell_type": "code",
   "execution_count": null,
   "id": "a3406e3f",
   "metadata": {},
   "outputs": [],
   "source": []
  },
  {
   "cell_type": "markdown",
   "id": "08f8c4fa",
   "metadata": {},
   "source": [
    "Ahora imprime el tamaño del archivo."
   ]
  },
  {
   "cell_type": "code",
   "execution_count": null,
   "id": "6b93d22d",
   "metadata": {},
   "outputs": [],
   "source": []
  },
  {
   "cell_type": "markdown",
   "id": "061d7974",
   "metadata": {},
   "source": [
    "Cambiale el nombre de 'la_luna.txt' a 'jaime_sabines.txt'."
   ]
  },
  {
   "cell_type": "code",
   "execution_count": null,
   "id": "31a48b36",
   "metadata": {},
   "outputs": [],
   "source": []
  }
 ],
 "metadata": {
  "kernelspec": {
   "display_name": "robotica",
   "language": "python",
   "name": "python3"
  },
  "language_info": {
   "codemirror_mode": {
    "name": "ipython",
    "version": 3
   },
   "file_extension": ".py",
   "mimetype": "text/x-python",
   "name": "python",
   "nbconvert_exporter": "python",
   "pygments_lexer": "ipython3",
   "version": "3.13.5"
  }
 },
 "nbformat": 4,
 "nbformat_minor": 5
}
