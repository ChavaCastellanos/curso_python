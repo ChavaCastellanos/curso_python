{
 "cells": [
  {
   "cell_type": "markdown",
   "id": "a1005f79",
   "metadata": {},
   "source": [
    "# Actividad 1: Lectura y Escritura de Archivos"
   ]
  },
  {
   "cell_type": "code",
   "execution_count": null,
   "id": "4be81832",
   "metadata": {
    "vscode": {
     "languageId": "plaintext"
    }
   },
   "outputs": [],
   "source": []
  },
  {
   "cell_type": "markdown",
   "id": "1599570c",
   "metadata": {},
   "source": []
  }
 ],
 "metadata": {
  "language_info": {
   "name": "python"
  }
 },
 "nbformat": 4,
 "nbformat_minor": 5
}
