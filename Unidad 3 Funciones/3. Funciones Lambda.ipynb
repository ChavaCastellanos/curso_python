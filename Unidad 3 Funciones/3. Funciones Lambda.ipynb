{
 "cells": [
  {
   "cell_type": "markdown",
   "id": "95026e0c",
   "metadata": {},
   "source": [
    "# Funciones Lambda"
   ]
  },
  {
   "cell_type": "code",
   "execution_count": null,
   "id": "5978dec0",
   "metadata": {
    "vscode": {
     "languageId": "plaintext"
    }
   },
   "outputs": [],
   "source": []
  },
  {
   "cell_type": "markdown",
   "id": "bf102c9e",
   "metadata": {},
   "source": []
  }
 ],
 "metadata": {
  "language_info": {
   "name": "python"
  }
 },
 "nbformat": 4,
 "nbformat_minor": 5
}
