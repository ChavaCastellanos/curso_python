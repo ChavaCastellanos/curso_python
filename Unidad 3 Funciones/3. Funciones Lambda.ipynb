{
 "cells": [
  {
   "cell_type": "markdown",
   "id": "95026e0c",
   "metadata": {},
   "source": [
    "# 3. Funciones Lambda\n",
    "Una función lambda es una función pequeña y anónima.\n",
    "Una función lambda puede aceptar cualquier número de argumentos, pero solo puede tener una expresión.\n",
    "Que sea anónima significa que no tiene un nombre. Su sintáxis es la siguiente:\n",
    "\n",
    "```\n",
    "lambda argumentos : expresión\n",
    "```\n",
    "\n",
    "Por ejemplo, copia el siguiente código en la siguiente celda y prueba su funcionamiento:\n",
    "```\n",
    "x = lambda a : a + 10\n",
    "print(x(5))\n",
    "```\n",
    "\n",
    "La principal ventaja de las funciones lambda, es que en aplicaciones donde sólo necesitamos una función pequeña podemos evitar usar mucho tiempo y espacio escribiendo una función convencional con la sentencia `def`"
   ]
  },
  {
   "cell_type": "code",
   "execution_count": null,
   "id": "5978dec0",
   "metadata": {},
   "outputs": [],
   "source": []
  },
  {
   "cell_type": "markdown",
   "id": "bf102c9e",
   "metadata": {},
   "source": [
    "Ahora escribe una función lambda que tome dos argumentos y los multiplique. Mándala llamar pasándole dos números arbitrarios."
   ]
  },
  {
   "cell_type": "code",
   "execution_count": null,
   "id": "3497251f",
   "metadata": {},
   "outputs": [],
   "source": []
  },
  {
   "cell_type": "markdown",
   "id": "50667ca7",
   "metadata": {},
   "source": [
    "También se pueden usar para revisar condiciones. Mira el siguiente ejemplo.\n",
    "```\n",
    "n = lambda x: \"Positivo\" if x > 0 else \"Negativo\" if x < 0 else \"Cero\"\n",
    "print(n(5))   \n",
    "print(n(-3))  \n",
    "print(n(0))\n",
    "```\n",
    "\n",
    "Ejecuta este código en la siguiente celda"
   ]
  },
  {
   "cell_type": "code",
   "execution_count": null,
   "id": "17e87b03",
   "metadata": {},
   "outputs": [],
   "source": []
  },
  {
   "cell_type": "markdown",
   "id": "ad93de65",
   "metadata": {},
   "source": [
    "Ahora implementa una función lambda que revise retorne un string \"par\" o \"impar\" dependiendo si el número que recibe es divisible por 2."
   ]
  },
  {
   "cell_type": "code",
   "execution_count": null,
   "id": "bfbd7fbd",
   "metadata": {},
   "outputs": [],
   "source": []
  },
  {
   "cell_type": "markdown",
   "id": "a00042f6",
   "metadata": {},
   "source": [
    "Las funciones lamda también pueden recibir y trabajar con otros tipos de datos. Define una función lambda para convertir una cadena (string) a mayúsculas usando upper() dentro de la función lambda."
   ]
  },
  {
   "cell_type": "code",
   "execution_count": null,
   "id": "040eca4e",
   "metadata": {},
   "outputs": [],
   "source": []
  },
  {
   "cell_type": "markdown",
   "id": "a0285543",
   "metadata": {},
   "source": [
    "Aunque una función lambda sólo tenga una sentencia, puedes retornar varios valores de una función lambda. Esto puedes lograrlo retornando dichos valores en forma de una lista o una tupla. En la siguiente celda, escribe una función lambda que reciba dos argumentos y retorne en una tupla de dos elementos la multiplicación y la suma de estos números. "
   ]
  },
  {
   "cell_type": "code",
   "execution_count": null,
   "id": "a053df15",
   "metadata": {},
   "outputs": [],
   "source": []
  },
  {
   "cell_type": "markdown",
   "id": "711e7634",
   "metadata": {},
   "source": [
    "## ¿En qué más podemos usar las funciones lambda?\n",
    "\n",
    "Una de las aplicaciones más comunes de una función lambda es usándolas como funciones anónimas dentro de otra función. Observa el siguiente ejemplo:\n",
    "```\n",
    "def miFunc(n):\n",
    "  return lambda a : a * n \n",
    "```\n",
    "Observa que al llamar a `miFunc`, esta retorna una función lambda que usa el parámetro n que le pasamos como argumento.\n",
    "Copia esta función en la siguiente celda, luego llámala de esta forma `doble = miFunc(2)`. Ahora doble es una función lambda que puede recibir un número y calcular el doble de ese número. Imprime el doble de un número así `print(doble(3))`, deberá mostrarse entonces un 6."
   ]
  },
  {
   "cell_type": "code",
   "execution_count": null,
   "id": "9a891b41",
   "metadata": {},
   "outputs": [],
   "source": []
  },
  {
   "cell_type": "markdown",
   "id": "a3641924",
   "metadata": {},
   "source": [
    "Con este principio puedes escribir una función normal que, dependiendo de un valor booleano recibido como argumento, retorne una función lambda que sume o reste dos números. Su funcionamiento debe ser algo similar esto:\n",
    "```\n",
    "sumar = funcion(true)\n",
    "restar = funcion(false)\n",
    "suma = sumar(a,b)\n",
    "resta =  restar(a,b)\n",
    "```"
   ]
  },
  {
   "cell_type": "code",
   "execution_count": null,
   "id": "a55f7fd0",
   "metadata": {},
   "outputs": [],
   "source": []
  },
  {
   "cell_type": "markdown",
   "id": "73fcd0aa",
   "metadata": {},
   "source": [
    "## Funciones lambda en iterables.\n",
    "\n",
    "Un iterable, como vimos en cuadernos anteriores, consiste en una serie de valores, como números y caracteres.\n",
    "\n",
    "En Python, los iterables incluyen cadenas, listas, diccionarios, rangos, tuplas, etc. Al trabajar con iterables, se pueden usar funciones lambda junto con dos funciones comunes: `filter()` y `map()`.\n",
    "\n",
    "### Función filter()\n",
    "\n",
    "La función `filter()` se utiliza para extraer elementos de un iterable (como una lista, tupla o conjunto) que cumplen una condición dada. Funciona aplicando una función a cada elemento y conservando solo aquellos para los que la función devuelve \"Verdadero\". La sintáxis es la siguiente:\n",
    "```\n",
    "filter(function, iterable)\n",
    "```\n",
    "\n",
    "Puedes ver, que el primer argumento es una función. Esta función puede ser una función convencional, escrita con `def` o una función lambda, escrita diréctamente como argumento de la primera posición. O sea,\n",
    "```\n",
    "filter(lambda ... : ... , iterable)\n",
    "```\n",
    "\n",
    "En la siguiente celda, utiliza la función filter() junto con una función lambda, para filtrar los elementos pares de la siguiente lista.\n",
    "```\n",
    "x = [1, 2, 3, 4, 5, 6, 7, 8, 9, 10]\n",
    "```\n",
    "\n",
    "Nota: si quieres mostrar el resultado, debes guardar el resultado de filter en otra variable y luego convertirla a lista. I.E.\n",
    "```\n",
    "variable_filtrada = filter(...)\n",
    "print(list(variable_filtrada))\n",
    "```"
   ]
  },
  {
   "cell_type": "code",
   "execution_count": null,
   "id": "37fb2458",
   "metadata": {},
   "outputs": [],
   "source": []
  },
  {
   "cell_type": "markdown",
   "id": "1e503a8a",
   "metadata": {},
   "source": [
    "### Función map()\n",
    "\n",
    "Puedes usar la función `map()` cuando quieras hacer una misma operación en todos los valores de un iterable. Su sintáxis es la siguiente\n",
    "```\n",
    "map(function, iterable)\n",
    "```\n",
    "\n",
    "Al igual que con la función `filter()`, el primer argumento de `map()` puede ser tanto una función convencional como una función lambda.\n",
    "Utiliza la función map junto con una función lambda para elevar al cuadrado cada elemento de la lista siguiente.\n",
    "\n",
    "```\n",
    "list1 = [2, 3, 4, 5]\n",
    "```\n",
    "\n",
    "Para imprimir el resultado de la función `map()`, también debes convertirla a lista primero."
   ]
  },
  {
   "cell_type": "code",
   "execution_count": null,
   "id": "01913b1c",
   "metadata": {},
   "outputs": [],
   "source": []
  }
 ],
 "metadata": {
  "kernelspec": {
   "display_name": "robotica",
   "language": "python",
   "name": "python3"
  },
  "language_info": {
   "codemirror_mode": {
    "name": "ipython",
    "version": 3
   },
   "file_extension": ".py",
   "mimetype": "text/x-python",
   "name": "python",
   "nbconvert_exporter": "python",
   "pygments_lexer": "ipython3",
   "version": "3.13.5"
  }
 },
 "nbformat": 4,
 "nbformat_minor": 5
}
