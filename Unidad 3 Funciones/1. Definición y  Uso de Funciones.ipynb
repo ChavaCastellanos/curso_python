{
 "cells": [
  {
   "cell_type": "markdown",
   "id": "d03e6f69",
   "metadata": {},
   "source": [
    "# Actividad 1: Definición y Uso de Funciones.\n",
    "Una función es un grupo de instrucciones que existen dentro de un programa con el propósito de realizar una tarea específica.\n",
    "El código de una función se conoce como definición de función. Para ejecutarla, se escribe una instrucción que la invoca.\n",
    "```\n",
    "def function_name():\n",
    "    statement\n",
    "    statement\n",
    "    etc.\n",
    "```\n",
    "\n",
    "Python requiere que se sigan las mismas reglas que al nombrar variables, que resumimos aquí:\n",
    "- No se puede usar una palabra clave de Python como nombre de función.\n",
    "- El nombre de una función no puede contener espacios.\n",
    "- El primer carácter debe ser una de las letras de la a a la z, de la A a la Z, o un guion bajo (_).\n",
    "- Después del primer carácter, se pueden usar las letras de la a a la z, de la A a la Z, los dígitos del 0 al 9 o guiones bajos.\n",
    "- Las mayúsculas y las minúsculas son distintas.\n",
    "\n",
    "Dado que las funciones realizan acciones, la mayoría de los programadores prefieren usar verbos en sus nombres.\n",
    "Por ejemplo, una función que calcula el salario bruto podría llamarse calcular_paga_bruta()"
   ]
  },
  {
   "cell_type": "code",
   "execution_count": null,
   "id": "c19fe15e",
   "metadata": {},
   "outputs": [],
   "source": []
  },
  {
   "cell_type": "markdown",
   "id": "940ad98d",
   "metadata": {},
   "source": []
  },
  {
   "cell_type": "code",
   "execution_count": null,
   "id": "993c2edb",
   "metadata": {},
   "outputs": [],
   "source": []
  }
 ],
 "metadata": {
  "kernelspec": {
   "display_name": "robotica",
   "language": "python",
   "name": "python3"
  },
  "language_info": {
   "name": "python",
   "version": "3.13.5"
  }
 },
 "nbformat": 4,
 "nbformat_minor": 5
}
