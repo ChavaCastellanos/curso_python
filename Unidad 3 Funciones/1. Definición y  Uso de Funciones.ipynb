{
 "cells": [
  {
   "cell_type": "markdown",
   "id": "d03e6f69",
   "metadata": {},
   "source": [
    "# Actividad 1: Definición y Uso de Funciones.\n",
    "\n",
    "La mayoría de los programas realizan tareas lo suficientemente extensas como para dividirse en varias subtareas. Por esta razón, los programadores suelen dividir sus programas en pequeñas partes manejables conocidas como _funciones_. Una función es un grupo de instrucciones que existen dentro de un programa con el propósito de realizar una tarea específica.\n",
    "\n",
    "El código de una función se conoce como definición de función. Para ejecutarla, se escribe una instrucción que la invoca.\n",
    "```\n",
    "def function_name():\n",
    "    statement\n",
    "    statement\n",
    "    etc.\n",
    "```\n",
    "\n",
    "Python requiere que se sigan las mismas reglas que al nombrar variables, que resumimos aquí:\n",
    "- No se puede usar una palabra clave de Python como nombre de función.\n",
    "- El nombre de una función no puede contener espacios.\n",
    "- El primer carácter debe ser una de las letras de la a a la z, de la A a la Z, o un guion bajo (_).\n",
    "- Después del primer carácter, se pueden usar las letras de la a a la z, de la A a la Z, los dígitos del 0 al 9 o guiones bajos.\n",
    "- Las mayúsculas y las minúsculas son distintas.\n",
    "\n",
    "Dado que las funciones realizan acciones, la mayoría de los programadores prefieren usar verbos en sus nombres.\n",
    "Por ejemplo, una función que calcula el salario bruto podría llamarse calcular_paga_bruta().\n",
    "\n",
    "En la siguiente celda, crea una función `mensaje_0` que imprima el mensaje:\n",
    "\n",
    "_En las noches claras,_ \\\n",
    "_resuelvo el problema de la soledad del ser._"
   ]
  },
  {
   "cell_type": "code",
   "execution_count": null,
   "id": "c19fe15e",
   "metadata": {},
   "outputs": [],
   "source": []
  },
  {
   "cell_type": "markdown",
   "id": "940ad98d",
   "metadata": {},
   "source": [
    "Ahora llama a la función `mensaje_0` en la siguiente celda."
   ]
  },
  {
   "cell_type": "code",
   "execution_count": null,
   "id": "993c2edb",
   "metadata": {},
   "outputs": [],
   "source": []
  },
  {
   "cell_type": "markdown",
   "id": "f2f0f234",
   "metadata": {},
   "source": [
    "Reinicia el kernel de este cuaderno, intenta llamar la función mensaje de la celda anterior sin ejecutar la celda donde definiste la función. ¿Qué ocurre? Responde en la siguiente celda con un comentario."
   ]
  },
  {
   "cell_type": "code",
   "execution_count": null,
   "id": "717df402",
   "metadata": {},
   "outputs": [],
   "source": []
  },
  {
   "cell_type": "markdown",
   "id": "66fbd8b0",
   "metadata": {},
   "source": [
    "Escribe otra función en la siguiente celda, llamada `mensaje_1`, aquí debe decir:\n",
    "\n",
    "_Invito a la luna y con mi sombra somos tres._"
   ]
  },
  {
   "cell_type": "code",
   "execution_count": null,
   "id": "5b9110a3",
   "metadata": {},
   "outputs": [],
   "source": []
  },
  {
   "cell_type": "markdown",
   "id": "0e952d1f",
   "metadata": {},
   "source": [
    "Ahora haz otra función que mande llamar las funciones `mensaje_0` y `mensaje_1`. \n",
    "Llámala `poema` y mándala llamar.\n",
    "\n",
    "(Este es un poema de Gloria Fuentes llamado En las noches claras)"
   ]
  },
  {
   "cell_type": "code",
   "execution_count": null,
   "id": "d899db42",
   "metadata": {},
   "outputs": [],
   "source": []
  },
  {
   "cell_type": "markdown",
   "id": "9a850ef7",
   "metadata": {},
   "source": [
    "## Variables Locales\n",
    "Una variable local se crea dentro de una función y no se puede acceder a ella mediante sentencias externas a la función. Diferentes funciones pueden tener variables locales con el mismo nombre porque no pueden ver las variables locales de las demás.\n",
    "\n",
    "Escribe una función que se llame `aves_aguascalientes()` donde declares una variable `aves = 317` e imprima el mensaje _Aguascalientes tiene {aves} especies de aves_.\n",
    "\n",
    "Ahora, escribe una función que se llame `aves_jalisco()` donde declares una variable `aves = 117` e imprima el mensaje _Jalisco tiene {aves} especies de aves_.\n",
    "\n",
    "Después llama ambas funciones y observa qué ocurre con la variable `aves`."
   ]
  },
  {
   "cell_type": "code",
   "execution_count": null,
   "id": "ab2f8804",
   "metadata": {},
   "outputs": [],
   "source": []
  },
  {
   "cell_type": "markdown",
   "id": "dc4ffe32",
   "metadata": {},
   "source": [
    "## Parámetros y retorno de valores\n",
    "Un argumento es cualquier dato que se pasa a una función cuando se llama a esta. Un parámetro es una variable que recibe un argumento que se pasa a una función.\n",
    "Puedes pasar un parámetro a una función con la siguiente sintáxis:\n",
    "\n",
    "```\n",
    "def function(parameter):\n",
    "    statement0\n",
    "    statement1\n",
    "    statement2\n",
    "    ...\n",
    "\n",
    "```\n",
    "\n",
    "Puedes usar el parámetro(_parameter_) en cualquier sentencia(_statement_) del programa. No es necesario especificar el tipo de dato de cada parámetro.\n",
    "\n",
    "Para llamar una función basta con escribir el nombre de la función en el programa con el valor que quieres pasar a la función entre paréntesis.\n",
    "\n",
    "```\n",
    "function(value)\n",
    "```\n",
    "\n",
    "En la siguiente celda, escribe una función `mostrar_doble()` que reciba un número como parámetro e imprima el doble de ese número. Después prueba su funcionamiento."
   ]
  },
  {
   "cell_type": "code",
   "execution_count": null,
   "id": "f0fadb87",
   "metadata": {},
   "outputs": [],
   "source": []
  },
  {
   "cell_type": "markdown",
   "id": "4ba018f0",
   "metadata": {},
   "source": [
    "### Parámetros posicionales\n",
    "En ocasiones, es necesario pasar más de un parámetro. Una opción que tienes para esto es usar parámetros posicionales, estos son parámetros separados por una coma, que tu función puede recibir y utilizar. \n",
    "\n",
    "```\n",
    "def function(parameter0, parameter1):\n",
    "    statement0\n",
    "    statement1\n",
    "    statement2\n",
    "    ...\n",
    "```\n",
    "\n",
    "Ten en cuenta que la posición de los parámetros es importante cuando declares y llames tus funciones. No es lo mismo llamar a tu función como `function(value0,value1)` que llamarla como `function(value1,value0)` ya que cada parámetro funciona como una variable independiente de los otros dentro de la función. (Aunque en el siguiente ejemplo en teoría sí obtendrías el mismo resultado, pero esto es debido a las propiedades de la suma y no debido a la forma en que funciona la programación en Python).\n",
    "\n",
    "En la siguiente celda, escribe una función `mostrar_suma` que reciba dos números e imprima la suma de ambos. Prueba la función en la misma celda, pasándole diferentes combinaciones de números.\n"
   ]
  },
  {
   "cell_type": "code",
   "execution_count": null,
   "id": "44798e9b",
   "metadata": {},
   "outputs": [],
   "source": []
  },
  {
   "cell_type": "markdown",
   "id": "aec040c9",
   "metadata": {},
   "source": [
    "También puedes utilizar otros tipos de datos en una función, ahora haz una función `revertir_nombre`. Usa la función `input` para obtener nombre y el apellido desde la terminal y luego escribe una funcion que reciba ambas variables de tipos _string_ e imprima primero el apellido y luego el nombre."
   ]
  },
  {
   "cell_type": "code",
   "execution_count": null,
   "id": "b77c8f0a",
   "metadata": {},
   "outputs": [],
   "source": []
  },
  {
   "cell_type": "markdown",
   "id": "6b0ea795",
   "metadata": {},
   "source": [
    "¿Que pasa cuando cambias el valor de un argumento dentro de la función? Escribe una función `cambiar` que: \n",
    "1. Reciba un valor numérico.\n",
    "2. Lo imprima.\n",
    "3. Cambie el valor de esa variable local.\n",
    "4. Vuelva a imprimirlo.\n",
    "\n",
    "Ahora prueba pasando el valor de la siguiente forma e imprime también el valor **después** de llamar la función. Observa lo que ocurre.\n",
    "```\n",
    "valor = 5\n",
    "cambiar(valor)\n",
    "print(f'Valor después de función cambiar {valor}')\n",
    "```  \n",
    "\n",
    "Observa qué ocurre con la variable valor antes, dentro y después de la función. Explica también brevemente en un comentario al final de la siguiente celda."
   ]
  },
  {
   "cell_type": "code",
   "execution_count": null,
   "id": "7da325fc",
   "metadata": {},
   "outputs": [],
   "source": []
  },
  {
   "cell_type": "markdown",
   "id": "84bd0fc0",
   "metadata": {},
   "source": [
    "### Argumentos de palabras clave\n",
    "\n",
    "La mayoría de los lenguajes de programación combinan los argumentos y parámetros de las funciones por su posición. Además de esta forma convencional de pasar argumentos, Python permite escribir un argumento en el siguiente formato para especificar a qué variable de parámetro debe pasarse:\n",
    "\n",
    "```\n",
    "function(parameter0_name=value0, parameter1_name=value1)\n",
    "```\n",
    "\n",
    "En este formato, `parameterX_name` es el nombre de una variable de parámetro y `valueX` es el valor que se pasa a ese parámetro. Un argumento escrito según esta sintaxis se conoce como argumento de palabra clave. Esta forma de llamar una función, nos permite pasarle los parámetros en orden diferente.\n",
    "\n",
    "En la siguiente celda, escribe una función `mostrar_interes_simple(principal, tasa, periodos)` que muestre la cantidad de interés simple, que recibirá una tasa de interés por períoso, un número de períodos y el capital principal (simplemente multiplica estos tres números y muéstralos desde la función).\n",
    "\n",
    "Utiliza 0.01 como tasa de interés por período, 10 como número de períodos y $10 000 como capital. Luego utiliza las palabras clave para llamar la función como se mostró antes, intenta poner los parámetros en diferente orden. Observa qué ocurre."
   ]
  },
  {
   "cell_type": "code",
   "execution_count": null,
   "id": "dc396a56",
   "metadata": {},
   "outputs": [],
   "source": []
  },
  {
   "cell_type": "markdown",
   "id": "dc511564",
   "metadata": {},
   "source": [
    "Ahora intenta llamar la misma función, pero haz esto:\n",
    "\n",
    "```\n",
    "mostrar_interes_simple(10000,tasa=0.01, periodos = 10)\n",
    "```\n",
    "Después intenta \n",
    "```\n",
    "mostrar_interes_simple(10000,tasa=0.01, 10)\n",
    "```\n",
    "\n",
    "Escribe en un comentario en la siguiente celda qué es lo que ocurre."
   ]
  },
  {
   "cell_type": "code",
   "execution_count": null,
   "id": "4e0caf71",
   "metadata": {},
   "outputs": [],
   "source": []
  },
  {
   "cell_type": "markdown",
   "id": "34a24b9e",
   "metadata": {},
   "source": [
    "### Retorno de valores\n",
    "\n",
    "Una función que devuelve un valor es un tipo especial de función. Se asemeja a una función void en los siguientes aspectos:\n",
    "- Es un grupo de sentencias que realizan una tarea específica.\n",
    "- Cuando se desea ejecutar la función, se la llama.\n",
    "\n",
    "Sin embargo, cuando una función que devuelve un valor finaliza, devuelve un valor a la parte del programa que la llamó. El valor devuelto por una función se puede usar como cualquier otro valor: se puede asignar a una variable, mostrar en pantalla, usar en una expresión matemática (si es un número), etc.\n",
    "\n",
    "Para escribir una función que retorne valores, puedes usar la siguiente sintáxis:\n",
    "```\n",
    "def function_name():\n",
    "    statement\n",
    "    statement\n",
    "    ...\n",
    "    return expression\n",
    "```\n",
    "\n",
    "Una de las instrucciones de la función debe ser una instrucción de retorno, que tiene la siguiente forma: `return expression`\n",
    "El valor de la expresión que sigue a la palabra clave return se devolverá a la parte del programa que llamó a la función. Puede ser cualquier valor, variable o expresión que tenga un valor (como una expresión matemática).\n",
    "\n",
    "En la siguiente escribe una función `suma(num1, num2)` que retorne la suma de dos números. Prueba la función y muestra el resultado fuera de la función."
   ]
  },
  {
   "cell_type": "code",
   "execution_count": null,
   "id": "acee5b68",
   "metadata": {},
   "outputs": [],
   "source": []
  },
  {
   "cell_type": "markdown",
   "id": "5e238750",
   "metadata": {},
   "source": [
    "También puedes retornar valores string. En la siguiente celda escribe y prueba una función que reciba el nombre de una calle, número de casa, colonia y nombre de la ciudad y lo retorne todo junto como un sólo string de la dirección."
   ]
  },
  {
   "cell_type": "code",
   "execution_count": null,
   "id": "e3a81f33",
   "metadata": {},
   "outputs": [],
   "source": []
  },
  {
   "cell_type": "markdown",
   "id": "0866feae",
   "metadata": {},
   "source": [
    "Ahora, escribe una función que reciba un número, revise si es par o impar y retorne en un valor booleano 'true' si es par, 'false' si es impar."
   ]
  },
  {
   "cell_type": "code",
   "execution_count": null,
   "id": "e84d6c79",
   "metadata": {},
   "outputs": [],
   "source": []
  },
  {
   "cell_type": "markdown",
   "id": "0ecb0e5f",
   "metadata": {},
   "source": [
    "### Parámetros con valores por defecto\n",
    "\n",
    "En ciertas aplicaciones, puede que sepas qué valor es más probable que tenga un parámetro de entrada de una función. En esos casos puedes indicarle a la función dicho valor, de forma que si al llamar a la función no le especificas qué valor va a tomar ese parámetro, este tome el valor por defecto.\n",
    "```\n",
    "def function(parameter0 = default_value0, parameter1 = default_value1):\n",
    "    statement0\n",
    "    statement1\n",
    "    statement2\n",
    "    ...\n",
    "```\n"
   ]
  },
  {
   "cell_type": "code",
   "execution_count": null,
   "id": "2555c011",
   "metadata": {},
   "outputs": [],
   "source": []
  },
  {
   "cell_type": "markdown",
   "id": "d65b48a7",
   "metadata": {},
   "source": []
  },
  {
   "cell_type": "code",
   "execution_count": null,
   "id": "613166e9",
   "metadata": {},
   "outputs": [],
   "source": []
  },
  {
   "cell_type": "markdown",
   "id": "b8851888",
   "metadata": {},
   "source": [
    "### Argumentos arbitrarios"
   ]
  },
  {
   "cell_type": "code",
   "execution_count": null,
   "id": "3203ed7a",
   "metadata": {},
   "outputs": [],
   "source": []
  },
  {
   "cell_type": "markdown",
   "id": "5532f63f",
   "metadata": {},
   "source": [
    "### Retorno de múltiples valores"
   ]
  },
  {
   "cell_type": "code",
   "execution_count": null,
   "id": "3d228da7",
   "metadata": {},
   "outputs": [],
   "source": []
  }
 ],
 "metadata": {
  "kernelspec": {
   "display_name": "robotica",
   "language": "python",
   "name": "python3"
  },
  "language_info": {
   "codemirror_mode": {
    "name": "ipython",
    "version": 3
   },
   "file_extension": ".py",
   "mimetype": "text/x-python",
   "name": "python",
   "nbconvert_exporter": "python",
   "pygments_lexer": "ipython3",
   "version": "3.13.5"
  }
 },
 "nbformat": 4,
 "nbformat_minor": 5
}
