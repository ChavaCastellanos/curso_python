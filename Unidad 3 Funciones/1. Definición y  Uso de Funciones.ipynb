{
 "cells": [
  {
   "cell_type": "markdown",
   "id": "d03e6f69",
   "metadata": {},
   "source": [
    "# Actividad 1: Definición y Uso de Funciones.\n",
    "\n",
    "La mayoría de los programas realizan tareas lo suficientemente extensas como para dividirse en varias subtareas. Por esta razón, los programadores suelen dividir sus programas en pequeñas partes manejables conocidas como _funciones_. Una función es un grupo de instrucciones que existen dentro de un programa con el propósito de realizar una tarea específica.\n",
    "\n",
    "El código de una función se conoce como definición de función. Para ejecutarla, se escribe una instrucción que la invoca.\n",
    "```\n",
    "def function_name():\n",
    "    statement\n",
    "    statement\n",
    "    etc.\n",
    "```\n",
    "\n",
    "Python requiere que se sigan las mismas reglas que al nombrar variables, que resumimos aquí:\n",
    "- No se puede usar una palabra clave de Python como nombre de función.\n",
    "- El nombre de una función no puede contener espacios.\n",
    "- El primer carácter debe ser una de las letras de la a a la z, de la A a la Z, o un guion bajo (_).\n",
    "- Después del primer carácter, se pueden usar las letras de la a a la z, de la A a la Z, los dígitos del 0 al 9 o guiones bajos.\n",
    "- Las mayúsculas y las minúsculas son distintas.\n",
    "\n",
    "Dado que las funciones realizan acciones, la mayoría de los programadores prefieren usar verbos en sus nombres.\n",
    "Por ejemplo, una función que calcula el salario bruto podría llamarse calcular_paga_bruta().\n",
    "\n",
    "En la siguiente celda, crea una función `mensaje_0` que imprima el mensaje:\n",
    "\n",
    "_Uno a uno recorro tus cuadernos:_\\\n",
    "_hojas repletas con tu pequeña letra minuciosa,_"
   ]
  },
  {
   "cell_type": "code",
   "execution_count": null,
   "id": "c19fe15e",
   "metadata": {},
   "outputs": [],
   "source": []
  },
  {
   "cell_type": "markdown",
   "id": "940ad98d",
   "metadata": {},
   "source": [
    "Ahora llama a la función `mensaje_0` en la siguiente celda."
   ]
  },
  {
   "cell_type": "code",
   "execution_count": null,
   "id": "993c2edb",
   "metadata": {},
   "outputs": [],
   "source": []
  },
  {
   "cell_type": "markdown",
   "id": "f2f0f234",
   "metadata": {},
   "source": [
    "Reinicia el kernel de este cuaderno, intenta llamar la función mensaje de la celda anterior sin ejecutar la celda donde definiste la función. ¿Qué ocurre? Responde en la siguiente celda con un comentario."
   ]
  },
  {
   "cell_type": "code",
   "execution_count": null,
   "id": "717df402",
   "metadata": {},
   "outputs": [],
   "source": []
  },
  {
   "cell_type": "markdown",
   "id": "66fbd8b0",
   "metadata": {},
   "source": [
    "Escribe otra función en la siguiente celda, llamada `mensaje_1`, aquí debe decir:\n",
    "\n",
    "_fechas y nombres,_\\\n",
    "_ideas como moscas zumbadoras._"
   ]
  },
  {
   "cell_type": "code",
   "execution_count": null,
   "id": "5b9110a3",
   "metadata": {},
   "outputs": [],
   "source": []
  },
  {
   "cell_type": "markdown",
   "id": "0e952d1f",
   "metadata": {},
   "source": [
    "Ahora haz otra función que mande llamar las funciones `mensaje_0` y `mensaje_1`. \n",
    "Llámala `poema` y mándala llamar."
   ]
  },
  {
   "cell_type": "code",
   "execution_count": null,
   "id": "d899db42",
   "metadata": {},
   "outputs": [],
   "source": []
  },
  {
   "cell_type": "markdown",
   "id": "dc4ffe32",
   "metadata": {},
   "source": [
    "## Parámetros y retorno de valores\n",
    "\n",
    "### Parámetros posicionales"
   ]
  },
  {
   "cell_type": "code",
   "execution_count": null,
   "id": "f0fadb87",
   "metadata": {},
   "outputs": [],
   "source": []
  },
  {
   "cell_type": "markdown",
   "id": "34a24b9e",
   "metadata": {},
   "source": [
    "### Retorno de valores"
   ]
  },
  {
   "cell_type": "code",
   "execution_count": null,
   "id": "acee5b68",
   "metadata": {},
   "outputs": [],
   "source": []
  },
  {
   "cell_type": "markdown",
   "id": "0ecb0e5f",
   "metadata": {},
   "source": [
    "### Parámetros con valores por defecto"
   ]
  },
  {
   "cell_type": "code",
   "execution_count": null,
   "id": "2555c011",
   "metadata": {},
   "outputs": [],
   "source": []
  },
  {
   "cell_type": "markdown",
   "id": "d65b48a7",
   "metadata": {},
   "source": []
  },
  {
   "cell_type": "code",
   "execution_count": null,
   "id": "613166e9",
   "metadata": {},
   "outputs": [],
   "source": []
  },
  {
   "cell_type": "markdown",
   "id": "b8851888",
   "metadata": {},
   "source": [
    "### Argumentos arbitrarios"
   ]
  },
  {
   "cell_type": "code",
   "execution_count": null,
   "id": "3203ed7a",
   "metadata": {},
   "outputs": [],
   "source": []
  },
  {
   "cell_type": "markdown",
   "id": "5532f63f",
   "metadata": {},
   "source": [
    "### Retorno de múltiples valores"
   ]
  },
  {
   "cell_type": "code",
   "execution_count": null,
   "id": "3d228da7",
   "metadata": {},
   "outputs": [],
   "source": []
  }
 ],
 "metadata": {
  "kernelspec": {
   "display_name": "robotica",
   "language": "python",
   "name": "python3"
  },
  "language_info": {
   "codemirror_mode": {
    "name": "ipython",
    "version": 3
   },
   "file_extension": ".py",
   "mimetype": "text/x-python",
   "name": "python",
   "nbconvert_exporter": "python",
   "pygments_lexer": "ipython3",
   "version": "3.13.5"
  }
 },
 "nbformat": 4,
 "nbformat_minor": 5
}
