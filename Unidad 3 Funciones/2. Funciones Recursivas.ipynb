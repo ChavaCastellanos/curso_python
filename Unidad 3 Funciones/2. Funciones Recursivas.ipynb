{
 "cells": [
  {
   "cell_type": "markdown",
   "id": "ba919965",
   "metadata": {},
   "source": [
    "# Funciones Recursivas\n",
    "\n",
    "Una función recursiva es una función que se llama a sí misma.\n",
    "\n",
    "Has visto ejemplos de funciones que llaman a otras funciones. En un programa, la función principal podría llamar a la función A, que a su vez podría llamar a la función B. También es posible que una función se llame a sí misma. Una función que se llama a sí misma se conoce como función recursiva.\n",
    "\n",
    "Mira el siguiente ejemplo de una función recursiva, copiala en la siguiente celda y mándala a llamar. ¿Qué ocurre? Responde en un comentario en la misma celda.\n",
    "```\n",
    "def message():\n",
    "    print('Esta es una función recursiva.')\n",
    "    message()\n",
    "```\n",
    "\n",
    "Nota: puedes detener la ejecución de un programa con `CTRL+C`."
   ]
  },
  {
   "cell_type": "code",
   "execution_count": null,
   "id": "d7803d96",
   "metadata": {},
   "outputs": [],
   "source": []
  },
  {
   "cell_type": "markdown",
   "id": "2e9fc341",
   "metadata": {},
   "source": [
    "Al igual que un ciclo, una función recursiva debe tener alguna forma de controlar el número de veces que se repite. En la siguiente celda, copia y pega la nueva versión de la función `message()`, ¿qué ocurre? Responde en un comentario en la misma celda.\n",
    "```\n",
    "def message(times):\n",
    "    if times > 0:\n",
    "        print('This is a recursive function.')\n",
    "        message(times − 1)\n",
    "```"
   ]
  },
  {
   "cell_type": "markdown",
   "id": "cf08fa34",
   "metadata": {},
   "source": []
  }
 ],
 "metadata": {
  "kernelspec": {
   "display_name": "robotica",
   "language": "python",
   "name": "python3"
  },
  "language_info": {
   "codemirror_mode": {
    "name": "ipython",
    "version": 3
   },
   "file_extension": ".py",
   "mimetype": "text/x-python",
   "name": "python",
   "nbconvert_exporter": "python",
   "pygments_lexer": "ipython3",
   "version": "3.13.5"
  }
 },
 "nbformat": 4,
 "nbformat_minor": 5
}
