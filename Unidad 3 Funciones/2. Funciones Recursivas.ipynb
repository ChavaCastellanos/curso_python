{
 "cells": [
  {
   "cell_type": "markdown",
   "id": "ba919965",
   "metadata": {},
   "source": [
    "# Funciones Recursivas\n",
    "\n",
    "Una función recursiva es una función que se llama a sí misma.\n",
    "\n",
    "Has visto ejemplos de funciones que llaman a otras funciones. En un programa, la función principal podría llamar a la función A, que a su vez podría llamar a la función B. También es posible que una función se llame a sí misma. Una función que se llama a sí misma se conoce como función recursiva.\n",
    "\n",
    "Mira el siguiente ejemplo de una función recursiva, copiala en la siguiente celda y mándala a llamar. ¿Qué ocurre? Responde en un comentario en la misma celda.\n",
    "```\n",
    "def message():\n",
    "    print('Esta es una función recursiva.')\n",
    "    message()\n",
    "```\n",
    "\n",
    "Nota: puedes detener la ejecución de un programa con `CTRL+C`."
   ]
  },
  {
   "cell_type": "code",
   "execution_count": null,
   "id": "d7803d96",
   "metadata": {},
   "outputs": [],
   "source": []
  },
  {
   "cell_type": "markdown",
   "id": "2e9fc341",
   "metadata": {},
   "source": [
    "Al igual que un ciclo, una función recursiva debe tener alguna forma de controlar el número de veces que se repite. En la siguiente celda, copia y pega la nueva versión de la función `message()`, ¿qué ocurre? Responde en un comentario en la misma celda.\n",
    "```\n",
    "def message(times):\n",
    "    if times > 0:\n",
    "        print('Esta es una función recursiva.')\n",
    "        message(times − 1)\n",
    "```"
   ]
  },
  {
   "cell_type": "code",
   "execution_count": null,
   "id": "ee64bf3a",
   "metadata": {},
   "outputs": [],
   "source": []
  },
  {
   "cell_type": "markdown",
   "id": "cf08fa34",
   "metadata": {},
   "source": [
    "Un problema se puede resolver con recursión si se puede dividir en problemas más pequeños que sean idénticos en estructura al problema general.\n",
    "\n",
    "En primer lugar, cabe destacar que la recursión nunca es necesaria para resolver un problema. Cualquier problema que pueda resolverse recursivamente también puede resolverse mediante un bucle. De hecho, los algoritmos recursivos suelen ser menos eficientes que los iterativos. Sin embargo, algunos problemas repetitivos se resuelven más fácilmente con recursión que con un bucle.\n",
    "\n",
    "En general, una función recursiva funciona de la siguiente manera:\n",
    "- Si el problema se puede resolver ahora, sin recursión, la función lo resuelve y retorna. Llamamos a esto el caso base.\n",
    "- Si el problema no se puede resolver ahora, la función lo reduce a un problema más pequeño pero similar y se llama a sí misma para resolverlo. Llamamos a esto el caso recursivo.\n",
    "\n",
    "## Ejemplo: Usar recursividad para resolver un número factorial.\n",
    "\n",
    "En matemáticas, la notación $n!$ representa el factorial del número $n$. El factorial de un número no negativo se puede definir mediante las siguientes reglas:\n",
    "\n",
    "\\begin{align*}\n",
    "Si \\quad n &= 0 \\quad entonces \\quad n! = 1 \\\\\n",
    "Si \\quad n &> 0 \\quad entonces \\quad n! = 1 \\times 2 \\times 3 \\times ...  \\times n\\\\\n",
    "\\end{align*}\n",
    "\n",
    "Identificamos aquí que tenemos dos casos, el primero se puede resolver directamente, entonces este sería nuestro caso base; el segundo caso podemos reducirlo a un problema más pequeño, este será nuestro caso recursivo. Podemos reescribir las ecuaciones anteriores de esta forma: \n",
    "\n",
    "\\begin{align*}\n",
    "Si \\quad n &= 0 \\quad entonces \\quad factorial(n) = 1 \\\\\n",
    "Si \\quad n &> 0 \\quad entonces \\quad factorial(n) = 1 \\times 2 \\times 3 \\times ...  \\times n\\\\\n",
    "\\end{align*}\n",
    "\n",
    "Observando el caso cuando $n>0$ podemos notar que $factorial(n) = n \\times factorial(n-1)$. Sustituyendo esto en las ecuaciones anteriores obtenemos\n",
    "\n",
    "\\begin{align*}\n",
    "Si \\quad n &= 0 \\quad entonces \\quad factorial(n) = 1 \\\\\n",
    "Si \\quad n &> 0 \\quad entonces \\quad factorial(n) = n \\times factorial(n-1)\\\\\n",
    "\\end{align*}\n",
    "\n",
    "Escribe en la siguiente celda una función recursiva que resulva este problema. Tendrás que usar la expresión `return` para retornar un valor desde la función recursiva. Prueba su funcionamiento."
   ]
  },
  {
   "cell_type": "code",
   "execution_count": null,
   "id": "6a12f727",
   "metadata": {},
   "outputs": [],
   "source": []
  },
  {
   "cell_type": "markdown",
   "id": "5c9b0c01",
   "metadata": {},
   "source": [
    "## Ejemplo: Sumar un rango de números\n",
    "\n",
    "En este ejemplo, escribirá una función llamada `range_sum` que utilizará recursividad para sumar un rango de elementos en una lista. La función toma los siguientes argumentos: una lista que contiene el rango de elementos a sumar, un entero que especifica el índice del elemento inicial del rango y un entero que especifica el índice del elemento final. A continuación, se muestra un ejemplo de cómo se podría usar la función:\n",
    "\n",
    "```\n",
    "numeros = [1, 2, 3, 4, 5, 6, 7, 8, 9]\n",
    "mi_suma = range_sum(numeros, 3, 7)\n",
    "print(mi_suma)\n",
    "```\n",
    "En este caso, la función retornaría 30 (porque $mi\\_ suma = 4+5+6+7+8$). Escribe esta función recursiva en la siguiente celda esta función y pruébala."
   ]
  },
  {
   "cell_type": "code",
   "execution_count": null,
   "id": "905fb522",
   "metadata": {},
   "outputs": [],
   "source": []
  },
  {
   "cell_type": "markdown",
   "id": "18e4cdbf",
   "metadata": {},
   "source": [
    "Algunos problemas matemáticos están diseñados para resolverse recursivamente. Un ejemplo bien conocido es el cálculo de los números de Fibonacci. Estos números, llamados así en honor al matemático italiano Leonardo Fibonacci (nacido alrededor de 1170), son la siguiente secuencia:\n",
    "\n",
    "\\begin{equation*}\n",
    "0, 1, 1, 2, 3, 5, 8, 13, 21, 34, 55, 89, 144, 233, . . .\n",
    "\\end{equation*}\n",
    "\n",
    "Observa que, después del segundo número, cada número de la serie es la suma de los dos anteriores. La serie de Fibonacci se puede definir de la siguiente manera:\n",
    "\n",
    "\\begin{align*}\n",
    "Si \\quad n &= 0 \\quad entonces \\quad Fib(n) = 0 \\\\\n",
    "Si \\quad n &= 1 \\quad entonces \\quad Fib(n) = 1 \\\\\n",
    "Si \\quad n &> 1 \\quad entonces \\quad Fib(n) = Fib(n-1) + Fib(n-2) \\\\\n",
    "\\end{align*}\n",
    "\n",
    "Ten en cuenta que esta función en realidad tiene dos casos base: cuando $n$ es igual a 0 y cuando $n$ es igual a 1. En cualquier caso, la función devuelve un valor sin realizar una llamada recursiva.\n",
    "\n",
    "En la siguiente celda, escribe y prueba la función recursiva que calcule el $n$-ésimo número de la serie de Fibonacci."
   ]
  },
  {
   "cell_type": "code",
   "execution_count": null,
   "id": "29af5ed6",
   "metadata": {},
   "outputs": [],
   "source": []
  },
  {
   "cell_type": "markdown",
   "id": "f3f1c495",
   "metadata": {},
   "source": [
    "## Ejemplo: Mínimo Común Divisor\n",
    "\n",
    "Nuestro siguiente ejemplo de recursividad es el cálculo del máximo común divisor (MCD) de dos números. \n",
    "El MCD de dos enteros positivos x e y se determina de la siguiente manera:\n",
    "\n",
    "\\begin{align*}\n",
    "& \\text{Si } x \\text{ es divisible por } y \\text{, entonces }mcd(x, y) = y \\\\\n",
    "& \\text{En caso contrario, } mcd(x, y) = mcd(y, \\text{residuo de }x/y)\n",
    "\\end{align*}\n",
    "\n",
    "Esta definición establece que el MCD de $x$ e $y$ es $y$ si $x/y$ no tiene residuo. Este es el caso base. En caso contrario, la respuesta es el MCD de $y$ y el residuo de $x/y$. \n",
    "\n",
    "Escribe el código con un método recursivo para calcular el MCD y pruébalo."
   ]
  },
  {
   "cell_type": "code",
   "execution_count": null,
   "id": "6e406c90",
   "metadata": {},
   "outputs": [],
   "source": []
  },
  {
   "cell_type": "markdown",
   "id": "b6b469c3",
   "metadata": {},
   "source": []
  }
 ],
 "metadata": {
  "kernelspec": {
   "display_name": "robotica",
   "language": "python",
   "name": "python3"
  },
  "language_info": {
   "codemirror_mode": {
    "name": "ipython",
    "version": 3
   },
   "file_extension": ".py",
   "mimetype": "text/x-python",
   "name": "python",
   "nbconvert_exporter": "python",
   "pygments_lexer": "ipython3",
   "version": "3.13.5"
  }
 },
 "nbformat": 4,
 "nbformat_minor": 5
}
