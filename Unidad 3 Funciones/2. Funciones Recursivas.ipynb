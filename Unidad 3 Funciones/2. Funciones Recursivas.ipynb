{
 "cells": [
  {
   "cell_type": "markdown",
   "id": "ba919965",
   "metadata": {},
   "source": [
    "# Funciones Recursivas"
   ]
  },
  {
   "cell_type": "code",
   "execution_count": null,
   "id": "d7803d96",
   "metadata": {},
   "outputs": [],
   "source": []
  },
  {
   "cell_type": "markdown",
   "id": "2e9fc341",
   "metadata": {},
   "source": []
  }
 ],
 "metadata": {
  "kernelspec": {
   "display_name": "robotica",
   "language": "python",
   "name": "python3"
  },
  "language_info": {
   "name": "python",
   "version": "3.13.5"
  }
 },
 "nbformat": 4,
 "nbformat_minor": 5
}
