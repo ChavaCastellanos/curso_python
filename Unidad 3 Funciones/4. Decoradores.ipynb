{
 "cells": [
  {
   "cell_type": "markdown",
   "id": "0e6f9d84",
   "metadata": {},
   "source": [
    "# 4. Decoradores\n",
    "\n",
    "Los decoradores de Python permiten modificar o ampliar el comportamiento de funciones y métodos sin modificar su código. Al usar un decorador de Python, se encapsula una función con otra, que toma la función original como argumento y devuelve su versión modificada. Esta técnica proporciona una forma sencilla de implementar funciones de orden superior en Python, mejorando la reutilización y la legibilidad del código. Observa el código de ejemplo siguiente, cópialo y pégalo en la siguiente celda y observa su funcionamiento.\n",
    "\n",
    "```\n",
    "def decorator(func):\n",
    "    def wrapper():\n",
    "        print(\"Antes de llamar a la función.\")\n",
    "        func()\n",
    "        print(\"Después de llamar a la función.\")\n",
    "    return wrapper\n",
    "\n",
    "def di_hola():\n",
    "    print(\"Hola!!!\")\n",
    "\n",
    "di_hola = decorator(di_hola)\n",
    "di_hola()\n",
    "```"
   ]
  },
  {
   "cell_type": "code",
   "execution_count": null,
   "id": "0f001400",
   "metadata": {},
   "outputs": [],
   "source": []
  },
  {
   "cell_type": "markdown",
   "id": "09ab1c33",
   "metadata": {},
   "source": [
    "El ejemplo anterior es la forma más sencilla de entender los decoradores, pero en la práctica se suele usar la siguiente sintáxis.\n",
    "\n",
    "```\n",
    "def decorator(func):\n",
    "    def wrapper():\n",
    "        print(\"Antes de llamar a la función.\")\n",
    "        func()\n",
    "        print(\"Después de llamar a la función.\")\n",
    "    return wrapper\n",
    "\n",
    "@decorator\n",
    "def di_hola():\n",
    "    print(\"Hola!!!\")\n",
    "\n",
    "di_hola()\n",
    "```\n",
    "Esto se hace para compactar un poco más el código. Cópialo y pégalo en la siguiente celda y observa si tiene o no el mismo comportamiento.\n",
    "\n",
    "Nota: Puedes nombrar tu función interna como quieras, y un nombre genérico como wrapper() suele ser suficiente. Verás muchos decoradores en este cuaderno. Para diferenciarlos, nombra la función interna con el mismo nombre que el decorador, pero con el prefijo wrapper_."
   ]
  },
  {
   "cell_type": "code",
   "execution_count": null,
   "id": "6e13440c",
   "metadata": {},
   "outputs": [],
   "source": []
  },
  {
   "cell_type": "markdown",
   "id": "c8e7d76c",
   "metadata": {},
   "source": [
    "Ahora haz un decorador que ejecute dos veces seguidas la función que recibe como parámetro.\n",
    "Escribe también dos funciones decoradas, una llamada `buenos_dias()`, que imprima un mensaje de buenos dias y otra `buenas_noches()` que imprima las buenas noches en la terminal.\n",
    "\n",
    "Llama las funciones, el resultado debería ser dos veces un mensaje de buenos días y dos veces un mensaje de buenas noches."
   ]
  },
  {
   "cell_type": "code",
   "execution_count": null,
   "id": "57bd642a",
   "metadata": {},
   "outputs": [],
   "source": []
  },
  {
   "cell_type": "markdown",
   "id": "7f4a2d75",
   "metadata": {},
   "source": [
    "## Decorando funciones con argumentos\n",
    "Usa la el decorador del ejercicio anterior con una nueva función\n",
    "```\n",
    "@nombre_de_tu_decorador\n",
    "def saludo(nombre):\n",
    "    print(f\"Hola {nombre}\")\n",
    "```\n",
    "¿Qué ocurre? Responde en un comentario."
   ]
  },
  {
   "cell_type": "code",
   "execution_count": null,
   "id": "3231400f",
   "metadata": {},
   "outputs": [],
   "source": []
  },
  {
   "cell_type": "markdown",
   "id": "03d1a8bc",
   "metadata": {},
   "source": [
    "Para solucionar este problema, añade al wrapper de tu decorador original `(*args, **kwargs)` para que acepte cualquier cantidad de argumentos, al igual que cuando llamas la función adentro del wrapper. Vuelve a intentar correr el ejemplo."
   ]
  },
  {
   "cell_type": "code",
   "execution_count": null,
   "id": "f5a73485",
   "metadata": {},
   "outputs": [],
   "source": []
  },
  {
   "cell_type": "markdown",
   "id": "354da5a6",
   "metadata": {},
   "source": [
    "Escribe ahora una función sumab(a,b) que imprima el resultado de la suma de dos números. Ahora usa un decorador pretty_sumab() que imprima la suma completa como \"a + b = resultado\". Ejemplo, llamar `sumab(2,3)` mostraría en la terminal \"2 + 3 = 5\"."
   ]
  },
  {
   "cell_type": "code",
   "execution_count": null,
   "id": "b9f0c684",
   "metadata": {},
   "outputs": [],
   "source": []
  },
  {
   "cell_type": "markdown",
   "id": "02c4159c",
   "metadata": {},
   "source": [
    "## Medición del tiempo de ejecución de una función.\n",
    "\n",
    "Los wrappers pueden usarse para medir el tiempo de ejecución de una función. Revisa el código de ejemplo a continuación\n",
    "\n",
    "```\n",
    "import time\n",
    "\n",
    "def measure_time(func):\n",
    "    def wrapper(*arg):\n",
    "        t = time.time()\n",
    "        res = func(*arg)\n",
    "        print(\"Function took \" + str(time.time()-t) + \" seconds to run\")\n",
    "        return res\n",
    "    return wrapper\n",
    "\n",
    "@measure_time\n",
    "def myFunction(n):\n",
    "    time.sleep(n)\n",
    "```"
   ]
  },
  {
   "cell_type": "code",
   "execution_count": null,
   "id": "1270078f",
   "metadata": {},
   "outputs": [],
   "source": []
  },
  {
   "cell_type": "markdown",
   "id": "e83eaa3b",
   "metadata": {},
   "source": [
    "Usa el ejemplo anterior para medir el tiempo necesario para calcular el factorial de un número. Pruébalo empiezando con un valor pequeño y aumenta cada vez más ese número."
   ]
  },
  {
   "cell_type": "code",
   "execution_count": null,
   "id": "b7d95662",
   "metadata": {},
   "outputs": [],
   "source": []
  }
 ],
 "metadata": {
  "kernelspec": {
   "display_name": "robotica",
   "language": "python",
   "name": "python3"
  },
  "language_info": {
   "codemirror_mode": {
    "name": "ipython",
    "version": 3
   },
   "file_extension": ".py",
   "mimetype": "text/x-python",
   "name": "python",
   "nbconvert_exporter": "python",
   "pygments_lexer": "ipython3",
   "version": "3.13.5"
  }
 },
 "nbformat": 4,
 "nbformat_minor": 5
}
