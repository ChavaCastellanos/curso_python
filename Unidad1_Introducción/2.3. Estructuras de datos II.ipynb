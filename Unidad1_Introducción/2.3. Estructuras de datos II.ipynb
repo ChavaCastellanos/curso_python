{
 "cells": [
  {
   "cell_type": "markdown",
   "id": "f8f92c35",
   "metadata": {},
   "source": []
  },
  {
   "cell_type": "code",
   "execution_count": null,
   "id": "c68a3c21",
   "metadata": {
    "vscode": {
     "languageId": "plaintext"
    }
   },
   "outputs": [],
   "source": []
  }
 ],
 "metadata": {
  "language_info": {
   "name": "python"
  }
 },
 "nbformat": 4,
 "nbformat_minor": 5
}
