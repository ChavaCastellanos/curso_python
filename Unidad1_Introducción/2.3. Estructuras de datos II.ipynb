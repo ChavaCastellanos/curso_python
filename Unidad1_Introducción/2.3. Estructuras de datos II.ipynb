{
 "cells": [
  {
   "cell_type": "markdown",
   "id": "f8f92c35",
   "metadata": {},
   "source": [
    "# Actividad 2.3: Estructuras de Datos II\n",
    "\n",
    "En este cuaderno continuaremos con las estructuras de datos, esta vez usaremos las tuplas, conjuntos y diccionarios.\n",
    "\n",
    "## Tuplas\n",
    "\n",
    "Las tuplas son muy parecidas a las listas, con una diferencia fundamental: una vez se ha creado no se puede modificar directamente.\n",
    "Una tupla se declara con paréntesis.\n",
    "\n",
    "En la siguiente celda, declara una dupla que contenga 3 números arbitrarios distintos."
   ]
  },
  {
   "cell_type": "code",
   "execution_count": null,
   "id": "f381fe00",
   "metadata": {},
   "outputs": [],
   "source": []
  },
  {
   "cell_type": "markdown",
   "id": "47ec4c43",
   "metadata": {},
   "source": [
    "Imprime cada elemento de esa tupla por separado en la siguiente celda."
   ]
  },
  {
   "cell_type": "code",
   "execution_count": null,
   "id": "86de43e7",
   "metadata": {},
   "outputs": [],
   "source": []
  },
  {
   "cell_type": "markdown",
   "id": "35c788ac",
   "metadata": {},
   "source": [
    "Ahora intenta modificar un elemento de esa tupla."
   ]
  },
  {
   "cell_type": "code",
   "execution_count": null,
   "id": "147d3f66",
   "metadata": {},
   "outputs": [],
   "source": []
  },
  {
   "cell_type": "markdown",
   "id": "91165e07",
   "metadata": {},
   "source": [
    "Ahora escribe una tupla con 7 nombres de frutas."
   ]
  },
  {
   "cell_type": "code",
   "execution_count": null,
   "id": "7fb5fd7c",
   "metadata": {},
   "outputs": [],
   "source": []
  },
  {
   "cell_type": "markdown",
   "id": "47c2c17e",
   "metadata": {},
   "source": [
    "Escribe en la siguiente celda el código para imprimir:\n",
    "- Los primeros 3 valores de la tupla de la celda anterior.\n",
    "- Los últimos 3 valores de la tupla.\n",
    "- Todos los valores, excepto el primero y el último."
   ]
  },
  {
   "cell_type": "code",
   "execution_count": null,
   "id": "8451effe",
   "metadata": {},
   "outputs": [],
   "source": []
  }
 ],
 "metadata": {
  "kernelspec": {
   "display_name": "robotica",
   "language": "python",
   "name": "python3"
  },
  "language_info": {
   "codemirror_mode": {
    "name": "ipython",
    "version": 3
   },
   "file_extension": ".py",
   "mimetype": "text/x-python",
   "name": "python",
   "nbconvert_exporter": "python",
   "pygments_lexer": "ipython3",
   "version": "3.13.5"
  }
 },
 "nbformat": 4,
 "nbformat_minor": 5
}
