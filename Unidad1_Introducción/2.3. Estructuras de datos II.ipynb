{
 "cells": [
  {
   "cell_type": "markdown",
   "id": "f8f92c35",
   "metadata": {},
   "source": [
    "# Actividad 2.3: Estructuras de Datos II\n",
    "\n",
    "En este cuaderno continuaremos con las estructuras de datos, esta vez usaremos las tuplas, conjuntos y diccionarios.\n",
    "\n",
    "## Tuplas\n",
    "\n",
    "Las tuplas son muy parecidas a las listas, con una diferencia fundamental: una vez se ha creado no se puede modificar directamente.\n",
    "Una tupla se declara con paréntesis `()`.\n",
    "\n",
    "En la siguiente celda, declara una dupla que contenga 3 números arbitrarios distintos."
   ]
  },
  {
   "cell_type": "code",
   "execution_count": null,
   "id": "f381fe00",
   "metadata": {},
   "outputs": [],
   "source": []
  },
  {
   "cell_type": "markdown",
   "id": "47ec4c43",
   "metadata": {},
   "source": [
    "Imprime cada elemento de esa tupla por separado en la siguiente celda."
   ]
  },
  {
   "cell_type": "code",
   "execution_count": null,
   "id": "86de43e7",
   "metadata": {},
   "outputs": [],
   "source": []
  },
  {
   "cell_type": "markdown",
   "id": "35c788ac",
   "metadata": {},
   "source": [
    "Ahora intenta modificar un elemento de esa tupla."
   ]
  },
  {
   "cell_type": "code",
   "execution_count": null,
   "id": "147d3f66",
   "metadata": {},
   "outputs": [],
   "source": []
  },
  {
   "cell_type": "markdown",
   "id": "91165e07",
   "metadata": {},
   "source": [
    "Ahora escribe una tupla con 7 nombres de frutas."
   ]
  },
  {
   "cell_type": "code",
   "execution_count": null,
   "id": "7fb5fd7c",
   "metadata": {},
   "outputs": [],
   "source": []
  },
  {
   "cell_type": "markdown",
   "id": "47c2c17e",
   "metadata": {},
   "source": [
    "Escribe en la siguiente celda el código para imprimir:\n",
    "- Los primeros 3 valores de la tupla de la celda anterior.\n",
    "- Los últimos 3 valores de la tupla.\n",
    "- Todos los valores, excepto el primero y el último."
   ]
  },
  {
   "cell_type": "code",
   "execution_count": null,
   "id": "8451effe",
   "metadata": {},
   "outputs": [],
   "source": []
  },
  {
   "cell_type": "markdown",
   "id": "58a14b80",
   "metadata": {},
   "source": [
    "Investiga el uso de los métodos `count()` e `index()`. En la siguiente celda demuestra su uso."
   ]
  },
  {
   "cell_type": "code",
   "execution_count": null,
   "id": "a4f02d82",
   "metadata": {},
   "outputs": [],
   "source": []
  },
  {
   "cell_type": "markdown",
   "id": "3897bd19",
   "metadata": {},
   "source": [
    "## Conjuntos\n",
    "\n",
    "Los conjuntos son colecciónes sin orden, sin indices e inmodificables. Sin embargo se les pueden añadir o remover elementos. Los conjuntos se declaran con llaves `{}`.\n",
    "\n",
    "En la siguiente celda escribe un conjunto con 3 nombres de animales. ¿Se pueden repetir nombres de animales? Responde en un comentario."
   ]
  },
  {
   "cell_type": "code",
   "execution_count": null,
   "id": "a1781131",
   "metadata": {},
   "outputs": [],
   "source": []
  },
  {
   "cell_type": "markdown",
   "id": "6548cf23",
   "metadata": {},
   "source": [
    "En la siguiente celda, intenta accesar a los valores del conjunto por medio de índices."
   ]
  },
  {
   "cell_type": "code",
   "execution_count": null,
   "id": "97218a52",
   "metadata": {},
   "outputs": [],
   "source": []
  },
  {
   "cell_type": "markdown",
   "id": "cb86dceb",
   "metadata": {},
   "source": [
    "Investiga cómo se puede revisar si un elemento está o no en un conjunto. Escribe un ejemplo a continuación."
   ]
  },
  {
   "cell_type": "code",
   "execution_count": null,
   "id": "521cad6f",
   "metadata": {},
   "outputs": [],
   "source": []
  },
  {
   "cell_type": "markdown",
   "id": "5c8bb439",
   "metadata": {},
   "source": [
    "Investiga cómo añadir y remover elementos de un conjunto. Escribe un ejemplo en la siguiente celda."
   ]
  },
  {
   "cell_type": "code",
   "execution_count": null,
   "id": "0c00e186",
   "metadata": {},
   "outputs": [],
   "source": []
  },
  {
   "cell_type": "markdown",
   "id": "852004bb",
   "metadata": {},
   "source": [
    "## Diccionarios\n",
    "\n",
    "Los diccionarios guardan valores en pares _llave:valor_. Se declaran usando llaves `diccionario = {llave_1:valor_1, llave_2:valor_2, ... }`. Sus elementos pueden ser cambiados, no se admiten duplicados y a partir de la versión 3.7 de python los diccionarios tienen orden.\n",
    "\n",
    "A continuación escribe un ejemplo de un diccionario con edades de personas, donde las llaves sean los nombres y los valores sus edades.\n",
    "\n",
    "- Juan, 23 años.\n",
    "- María, 24 años.\n",
    "- Karla, 22 años.\n",
    "- Pepe, 29 años."
   ]
  },
  {
   "cell_type": "code",
   "execution_count": null,
   "id": "d4dd6546",
   "metadata": {},
   "outputs": [],
   "source": []
  },
  {
   "cell_type": "markdown",
   "id": "5da4a186",
   "metadata": {},
   "source": [
    "Ahora imprime únicamente la edad de Karla."
   ]
  },
  {
   "cell_type": "code",
   "execution_count": null,
   "id": "f328f892",
   "metadata": {},
   "outputs": [],
   "source": []
  },
  {
   "cell_type": "markdown",
   "id": "61ac5fa2",
   "metadata": {},
   "source": [
    "Imprime sólo los nombres."
   ]
  },
  {
   "cell_type": "code",
   "execution_count": null,
   "id": "5ce0b78e",
   "metadata": {},
   "outputs": [],
   "source": []
  },
  {
   "cell_type": "markdown",
   "id": "b9236dfd",
   "metadata": {},
   "source": [
    "Ahora imprime sólo las edades."
   ]
  },
  {
   "cell_type": "code",
   "execution_count": null,
   "id": "c7dc578d",
   "metadata": {},
   "outputs": [],
   "source": []
  },
  {
   "cell_type": "markdown",
   "id": "b62dd4c6",
   "metadata": {},
   "source": [
    "Cambia la edad de Juan a 26 años."
   ]
  },
  {
   "cell_type": "code",
   "execution_count": null,
   "id": "e223f1b1",
   "metadata": {},
   "outputs": [],
   "source": []
  },
  {
   "cell_type": "markdown",
   "id": "c420e731",
   "metadata": {},
   "source": [
    "Intenta accesar a la eda de Pedro, ¿qué ocurre?"
   ]
  },
  {
   "cell_type": "code",
   "execution_count": null,
   "id": "fab74471",
   "metadata": {},
   "outputs": [],
   "source": []
  },
  {
   "cell_type": "markdown",
   "id": "6d41426d",
   "metadata": {},
   "source": [
    "Añade una entrada al diccionario para Pedro, que tiene 37 años."
   ]
  },
  {
   "cell_type": "code",
   "execution_count": null,
   "id": "04aba27a",
   "metadata": {},
   "outputs": [],
   "source": []
  },
  {
   "cell_type": "markdown",
   "id": "c47392dc",
   "metadata": {},
   "source": [
    "Ahora elimina María del diccionario."
   ]
  },
  {
   "cell_type": "code",
   "execution_count": null,
   "id": "3dcf3af6",
   "metadata": {},
   "outputs": [],
   "source": []
  }
 ],
 "metadata": {
  "kernelspec": {
   "display_name": "robotica",
   "language": "python",
   "name": "python3"
  },
  "language_info": {
   "codemirror_mode": {
    "name": "ipython",
    "version": 3
   },
   "file_extension": ".py",
   "mimetype": "text/x-python",
   "name": "python",
   "nbconvert_exporter": "python",
   "pygments_lexer": "ipython3",
   "version": "3.13.5"
  }
 },
 "nbformat": 4,
 "nbformat_minor": 5
}
