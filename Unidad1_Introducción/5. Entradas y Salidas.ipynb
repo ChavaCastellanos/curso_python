{
 "cells": [
  {
   "cell_type": "markdown",
   "id": "ca444e0d",
   "metadata": {},
   "source": [
    "# Actividad 5: Funciones de Entrada/Salida estándar.\n",
    "En cualquier aplicacion necesitamos recibir información del exterior, procesarla y retornar un resultado.\n",
    "En este cuaderno aprenderás a recibir entradas del usuario y cómo presentar los resultados de tus programas.\n",
    "\n",
    "## Entradas \n",
    "\n",
    "Muchas veces, por conveniencia para nosotros los programadores, la forma en que le damos datos de entrada a un script de python es declarando variables al principio del programa con los datos que necesitemos procesar. Si bien esto es práctico para nosotros, si damos nuestro programa para ser usado por un tercero, preferiríamos que el mismo script les solicite la información para que no tenga que abrir archivos de código e introducir los datos necesarios.\n",
    "Para esto usaremos la función `input()`. Investiga cómo se usa y en el siguiente espacio usala para solicitar los datos `nombre`, `apellido` y `edad`."
   ]
  },
  {
   "cell_type": "code",
   "execution_count": null,
   "id": "6f476051",
   "metadata": {},
   "outputs": [],
   "source": []
  },
  {
   "cell_type": "markdown",
   "id": "b1202a3e",
   "metadata": {},
   "source": [
    "¿Qué tipo de dato se obtuvo en las variables de la celda anterior?"
   ]
  },
  {
   "cell_type": "code",
   "execution_count": null,
   "id": "b141fda3",
   "metadata": {},
   "outputs": [],
   "source": []
  },
  {
   "cell_type": "markdown",
   "id": "3946f3f9",
   "metadata": {},
   "source": [
    "Ahora obten dos números, después súmalos y muestra el resultado."
   ]
  },
  {
   "cell_type": "code",
   "execution_count": null,
   "id": "ad1c4052",
   "metadata": {},
   "outputs": [],
   "source": []
  },
  {
   "cell_type": "markdown",
   "id": "e68f1cf2",
   "metadata": {},
   "source": [
    "## Salidas\n",
    "### La función `print`\n",
    "\n",
    "Desde el principio de estos ejercicios, hemos usado la función `print` para mostrar distintas salidas, por ejemplo el contenido de variables.\n",
    "De momento la hemos usado de manera muy básica, hay mucho más que podemos hacer. Empieza usando una sola vez la función `print` para mostrar el contenido de dos variables `nombre` y `apellido`.\n",
    "\n",
    "`print(nombre,appellido)`"
   ]
  },
  {
   "cell_type": "code",
   "execution_count": null,
   "id": "98bbdd4b",
   "metadata": {},
   "outputs": [],
   "source": []
  },
  {
   "cell_type": "markdown",
   "id": "2a371e96",
   "metadata": {},
   "source": [
    "Usa la función `format()` para imprimir texto de la siguiente forma:\n",
    "\n",
    "\"Hola Nombre Apellido, tu edad es X.\"\n",
    "\n",
    "Nombre y Apellido son el contenido de dichas variables y X es la edad en años."
   ]
  },
  {
   "cell_type": "code",
   "execution_count": null,
   "id": "a8094c7b",
   "metadata": {},
   "outputs": [],
   "source": []
  },
  {
   "cell_type": "markdown",
   "id": "97e2b9da",
   "metadata": {},
   "source": [
    "Vuelve a obtener dos números, pero ahora pregunta al usuario qué operación quiere hacer. Calcula el resultado y muestralo como el siguiente ejemplo.\n",
    "\n",
    "\"X + Y = Z\"\n",
    "\n",
    "Donde X y Y son los números de entrada y Z es el resultado calculado. Cambia el símbolo de operación de acuerdo a la que se haya introducido."
   ]
  },
  {
   "cell_type": "code",
   "execution_count": null,
   "id": "15f86abb",
   "metadata": {},
   "outputs": [],
   "source": []
  }
 ],
 "metadata": {
  "kernelspec": {
   "display_name": "robotica",
   "language": "python",
   "name": "python3"
  },
  "language_info": {
   "codemirror_mode": {
    "name": "ipython",
    "version": 3
   },
   "file_extension": ".py",
   "mimetype": "text/x-python",
   "name": "python",
   "nbconvert_exporter": "python",
   "pygments_lexer": "ipython3",
   "version": "3.13.5"
  }
 },
 "nbformat": 4,
 "nbformat_minor": 5
}
