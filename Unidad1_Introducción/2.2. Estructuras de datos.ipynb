{
 "cells": [
  {
   "cell_type": "markdown",
   "id": "0df09a15",
   "metadata": {},
   "source": [
    "# Actividad 2.2: Estructuras de Datos\n",
    "Existen 4 estructuras de datos básicas en python:\n",
    "\n",
    "- Listas\n",
    "- Tuplas\n",
    "- Conjuntos\n",
    "- Diccionarios\n",
    "\n",
    "En este cuaderno, Nos enfocaremos en las listas.\n",
    "\n",
    "## Listas\n",
    "Los elementos de la lista están ordenados, se pueden modificar y permiten valores duplicados.\n",
    "El primer elemento tiene el índice `[0]` , el segundo `[1]`, etc.\n",
    "\n",
    "En la siguiente celda, crea una lista llamada `lista1` e incluye en ella los elementos `\"manzana\"`,`\"plátano\"` y `\"cereza\"`. Imprime esta lista. "
   ]
  },
  {
   "cell_type": "code",
   "execution_count": null,
   "id": "3b9245d0",
   "metadata": {},
   "outputs": [],
   "source": []
  },
  {
   "cell_type": "markdown",
   "id": "dc0aad12",
   "metadata": {},
   "source": [
    "Puedes obtener el largo de una lista, es decir, el número de elementos en ella, con la función `len()`. Usa esta función para obtener el largo de la lista de la celda anterior."
   ]
  },
  {
   "cell_type": "code",
   "execution_count": null,
   "id": "e3fd47d8",
   "metadata": {},
   "outputs": [],
   "source": []
  },
  {
   "cell_type": "markdown",
   "id": "898f0248",
   "metadata": {},
   "source": [
    "Puedes acceder a cada elemento de la lista con corchetes `[]`. Imprime cada elemento individualmente."
   ]
  },
  {
   "cell_type": "code",
   "execution_count": null,
   "id": "72e89532",
   "metadata": {},
   "outputs": [],
   "source": []
  },
  {
   "cell_type": "markdown",
   "id": "c690da47",
   "metadata": {},
   "source": [
    "¿Qué pasa si accedes al elemento [-1]? ¿Qué pasa si pones en los corchetes [1:3]? Intentalo en la siguiente celda y explica en un comentario qué fue lo que pasó."
   ]
  },
  {
   "cell_type": "code",
   "execution_count": null,
   "id": "f5340c86",
   "metadata": {},
   "outputs": [],
   "source": []
  },
  {
   "cell_type": "markdown",
   "id": "02ed8761",
   "metadata": {},
   "source": [
    "¿Qué pasa si intentas acceder a un índice más grande que el último? Intentalo en la siguiente celda, escribe qué ocurre en un comentario."
   ]
  },
  {
   "cell_type": "code",
   "execution_count": null,
   "id": "53bb4af1",
   "metadata": {},
   "outputs": [],
   "source": []
  },
  {
   "cell_type": "markdown",
   "id": "4635afca",
   "metadata": {},
   "source": [
    "Haz una lista con nombres de 7 frutas. Prueba acceder a los siguientes tipos de índices y muestra el resultado: `[2:5]`, `[:4]` y `[2:]`"
   ]
  },
  {
   "cell_type": "code",
   "execution_count": null,
   "id": "b332502e",
   "metadata": {},
   "outputs": [],
   "source": []
  },
  {
   "cell_type": "markdown",
   "id": "2a027e88",
   "metadata": {},
   "source": [
    "Una lista puede tener cualquier tipo de dato primitivo. En la siguiente celda, construye dos listas, una con valores enteros y otra con valores booleanos."
   ]
  },
  {
   "cell_type": "code",
   "execution_count": null,
   "id": "869b5751",
   "metadata": {},
   "outputs": [],
   "source": []
  },
  {
   "cell_type": "markdown",
   "id": "e2e5ea7e",
   "metadata": {},
   "source": [
    "Una lista también puede tener distintos tipos de datos en una misma. En la siguiente celda, escribe una lista con valores cadena, booleanos y enteros."
   ]
  },
  {
   "cell_type": "code",
   "execution_count": null,
   "id": "2ea653f1",
   "metadata": {},
   "outputs": [],
   "source": []
  },
  {
   "cell_type": "markdown",
   "id": "9601c183",
   "metadata": {},
   "source": [
    "En la actividad anterior, usaste la función `type()`. Usala en alguna de las listas de las celdas anteriores. ¿Cuál es el resultado de esto? Explica brevemente en un comentario."
   ]
  },
  {
   "cell_type": "code",
   "execution_count": null,
   "id": "6f2018d9",
   "metadata": {},
   "outputs": [],
   "source": []
  },
  {
   "cell_type": "markdown",
   "id": "f50645c7",
   "metadata": {},
   "source": [
    "Puedes también crear una lista con el constructor `list()`. Investiga cómo se utiliza y crea una lista con él en la siguiente celda."
   ]
  },
  {
   "cell_type": "code",
   "execution_count": null,
   "id": "b0206852",
   "metadata": {},
   "outputs": [],
   "source": []
  },
  {
   "cell_type": "markdown",
   "id": "2f323009",
   "metadata": {},
   "source": [
    "Puedes añadir elementos a una lista de varias formas. Investiga, muestra con ejemplos y explica cómo funcionan los siguientes métodos: `append()`, `insert()` y `extend()`. Utiliza alguna de las listas creadas anteriormente.\n"
   ]
  },
  {
   "cell_type": "code",
   "execution_count": null,
   "id": "aac954b3",
   "metadata": {},
   "outputs": [],
   "source": []
  },
  {
   "cell_type": "markdown",
   "id": "724ec1a3",
   "metadata": {},
   "source": [
    "También puedes eliminar elementos de las listas. Haz lo mismo que en el ejercicio anterior con los métodos `remove()`, `pop()`, `clear()` y la palabra `del`."
   ]
  },
  {
   "cell_type": "code",
   "execution_count": null,
   "id": "0cc40535",
   "metadata": {},
   "outputs": [],
   "source": []
  },
  {
   "cell_type": "markdown",
   "id": "98640426",
   "metadata": {},
   "source": [
    "Investiga cómo unir dos listas y muéstralo en la siguiente celda, puedes usar dos celdas de los ejercicios anteriores."
   ]
  },
  {
   "cell_type": "code",
   "execution_count": null,
   "id": "4d589263",
   "metadata": {},
   "outputs": [],
   "source": []
  },
  {
   "cell_type": "markdown",
   "id": "b6d5fb1d",
   "metadata": {},
   "source": [
    "¿Cuál es la diferencia entre `list2 = list1` y `list2 = list1.copy()`? Investígalo, poruébalo y explica en la siguiente celda."
   ]
  },
  {
   "cell_type": "code",
   "execution_count": null,
   "id": "96b7b78a",
   "metadata": {},
   "outputs": [],
   "source": []
  }
 ],
 "metadata": {
  "kernelspec": {
   "display_name": "robotica",
   "language": "python",
   "name": "python3"
  },
  "language_info": {
   "codemirror_mode": {
    "name": "ipython",
    "version": 3
   },
   "file_extension": ".py",
   "mimetype": "text/x-python",
   "name": "python",
   "nbconvert_exporter": "python",
   "pygments_lexer": "ipython3",
   "version": "3.13.5"
  }
 },
 "nbformat": 4,
 "nbformat_minor": 5
}
