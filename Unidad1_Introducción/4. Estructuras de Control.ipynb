{
 "cells": [
  {
   "cell_type": "markdown",
   "id": "c0c47d3e",
   "metadata": {},
   "source": [
    "# Actividad 4: Estructuras de Control\n",
    "\n",
    "## Condicionales\n",
    "\n",
    "### if ... else \n",
    "\n",
    "Una condición if tiene la estructura básica\n",
    "\n",
    "```\n",
    "if condición:\n",
    "    instrucción\n",
    "```\n",
    "\n",
    "También se puede añadir else\n",
    "\n",
    "```\n",
    "if condición:\n",
    "    instrucción_1\n",
    "else:\n",
    "    instrucción_2\n",
    "```\n",
    "\n",
    "Escribe el código para revisar si el valor de una variable `a` es mayor o igual que una variable `b`, si lo es imprime el texto \"a es mayor o igual que b\". "
   ]
  },
  {
   "cell_type": "code",
   "execution_count": null,
   "id": "8d8e722f",
   "metadata": {},
   "outputs": [],
   "source": []
  },
  {
   "cell_type": "markdown",
   "id": "5a220c40",
   "metadata": {},
   "source": [
    "Ahora añade `else` e imprime también si es que \"a no es mayor que b\"."
   ]
  },
  {
   "cell_type": "code",
   "execution_count": null,
   "id": "6c603805",
   "metadata": {},
   "outputs": [],
   "source": []
  },
  {
   "cell_type": "markdown",
   "id": "d4f4335b",
   "metadata": {},
   "source": [
    "### elif\n",
    "\n",
    "Esta estructura, te ayuda a revisar cuando la primera condición no aplica, intentar con una siguiente condición. Pueden añadirse cuantas condiciones como sea necesario.\n",
    "\n",
    "```\n",
    "if condición_1:\n",
    "    instrucción_1\n",
    "elif condición_2:\n",
    "    instrucción_2\n",
    "else:\n",
    "    instrucción_3\n",
    "```\n",
    "\n",
    "\n",
    "Ahora utiliza 3 variables, `a`, `b` y `c`. Si `a` es igua a `b`, imprime 'a es igual a b'; si no, revisa si `a` es igual a `c`, si lo es indícalo con 'a es igual a c'; haz lo mismo con `b` y `c`; por último, si no aplica ninguno de esos casos, imprime 'ninguno es igual'."
   ]
  },
  {
   "cell_type": "code",
   "execution_count": null,
   "id": "56601c35",
   "metadata": {},
   "outputs": [],
   "source": []
  },
  {
   "cell_type": "markdown",
   "id": "8789197d",
   "metadata": {},
   "source": [
    "### match\n",
    "\n",
    "Para evitar usar muchos `elif`, puedes utilizar la estructura `match`.\n",
    "```\n",
    "match expression:\n",
    "    case x:\n",
    "        code block\n",
    "    case y:\n",
    "        code block\n",
    "    case z:\n",
    "        code block \n",
    "    case _:\n",
    "        code block\n",
    "```\n",
    "Se evalúa la expresión después de match y se compara con cada uno de los casos. Si coincide con uno, se ejecuta el bloque de código correspondiente, si no se encuentra en ninguno, se ejecuta el default.\n",
    "\n",
    "En la siguiente celda, escribe una estructura match que revise una variable `dia` con un número entero y dependiendo del número imprima un día de la semana. E.g. si `dia` es 1, imprime 'lunes', si es 2 imprime 'martes', etc. Si no es ninguno, imprime 'día no válido'."
   ]
  },
  {
   "cell_type": "code",
   "execution_count": null,
   "id": "c0ff1823",
   "metadata": {},
   "outputs": [],
   "source": []
  },
  {
   "cell_type": "markdown",
   "id": "c7939b69",
   "metadata": {},
   "source": [
    "## Bucles\n",
    "\n",
    "### Ciclo 'for'"
   ]
  },
  {
   "cell_type": "code",
   "execution_count": null,
   "id": "3c618295",
   "metadata": {},
   "outputs": [],
   "source": []
  },
  {
   "cell_type": "markdown",
   "id": "0563448e",
   "metadata": {},
   "source": [
    "### Ciclo 'while'"
   ]
  },
  {
   "cell_type": "code",
   "execution_count": null,
   "id": "4860e45c",
   "metadata": {},
   "outputs": [],
   "source": []
  },
  {
   "cell_type": "markdown",
   "id": "d7cbacc3",
   "metadata": {},
   "source": [
    "## Control de bucles\n",
    "\n",
    "### break"
   ]
  },
  {
   "cell_type": "code",
   "execution_count": null,
   "id": "91a56bb9",
   "metadata": {},
   "outputs": [],
   "source": []
  },
  {
   "cell_type": "markdown",
   "id": "814dc8aa",
   "metadata": {},
   "source": [
    "### continue"
   ]
  },
  {
   "cell_type": "code",
   "execution_count": null,
   "id": "9b20e508",
   "metadata": {},
   "outputs": [],
   "source": []
  },
  {
   "cell_type": "markdown",
   "id": "d5938523",
   "metadata": {},
   "source": [
    "## Loops avanzados\n",
    "\n",
    "### Loops anidados"
   ]
  },
  {
   "cell_type": "code",
   "execution_count": null,
   "id": "2cacd735",
   "metadata": {},
   "outputs": [],
   "source": []
  },
  {
   "cell_type": "markdown",
   "id": "a45cebfe",
   "metadata": {},
   "source": [
    "### Iteradores"
   ]
  },
  {
   "cell_type": "code",
   "execution_count": null,
   "id": "99e084bf",
   "metadata": {},
   "outputs": [],
   "source": []
  },
  {
   "cell_type": "markdown",
   "id": "ea54eb17",
   "metadata": {},
   "source": [
    "### Ciclos en una sóla linea"
   ]
  },
  {
   "cell_type": "code",
   "execution_count": null,
   "id": "3643943c",
   "metadata": {},
   "outputs": [],
   "source": []
  }
 ],
 "metadata": {
  "kernelspec": {
   "display_name": "robotica",
   "language": "python",
   "name": "python3"
  },
  "language_info": {
   "name": "python",
   "version": "3.13.5"
  }
 },
 "nbformat": 4,
 "nbformat_minor": 5
}
