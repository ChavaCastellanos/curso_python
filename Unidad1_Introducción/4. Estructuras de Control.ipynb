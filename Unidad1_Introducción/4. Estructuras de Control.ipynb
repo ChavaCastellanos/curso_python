{
 "cells": [
  {
   "cell_type": "markdown",
   "id": "c0c47d3e",
   "metadata": {},
   "source": [
    "# Actividad 4: Estructuras de Control\n",
    "\n",
    "## Condicionales\n",
    "\n",
    "### if ... else"
   ]
  },
  {
   "cell_type": "code",
   "execution_count": null,
   "id": "8d8e722f",
   "metadata": {},
   "outputs": [],
   "source": []
  },
  {
   "cell_type": "markdown",
   "id": "8789197d",
   "metadata": {},
   "source": [
    "### match"
   ]
  },
  {
   "cell_type": "code",
   "execution_count": null,
   "id": "c0ff1823",
   "metadata": {},
   "outputs": [],
   "source": []
  },
  {
   "cell_type": "markdown",
   "id": "c7939b69",
   "metadata": {},
   "source": [
    "## Bucles\n",
    "\n",
    "### Ciclo 'for'"
   ]
  },
  {
   "cell_type": "code",
   "execution_count": null,
   "id": "3c618295",
   "metadata": {},
   "outputs": [],
   "source": []
  },
  {
   "cell_type": "markdown",
   "id": "0563448e",
   "metadata": {},
   "source": [
    "### Ciclo 'while'"
   ]
  },
  {
   "cell_type": "code",
   "execution_count": null,
   "id": "4860e45c",
   "metadata": {},
   "outputs": [],
   "source": []
  },
  {
   "cell_type": "markdown",
   "id": "d7cbacc3",
   "metadata": {},
   "source": [
    "## Control de bucles\n",
    "\n",
    "### break"
   ]
  },
  {
   "cell_type": "code",
   "execution_count": null,
   "id": "91a56bb9",
   "metadata": {},
   "outputs": [],
   "source": []
  },
  {
   "cell_type": "markdown",
   "id": "814dc8aa",
   "metadata": {},
   "source": [
    "### continue"
   ]
  },
  {
   "cell_type": "code",
   "execution_count": null,
   "id": "9b20e508",
   "metadata": {},
   "outputs": [],
   "source": []
  },
  {
   "cell_type": "markdown",
   "id": "d5938523",
   "metadata": {},
   "source": [
    "## Loops avanzados\n",
    "\n",
    "### Loops anidados"
   ]
  },
  {
   "cell_type": "code",
   "execution_count": null,
   "id": "2cacd735",
   "metadata": {},
   "outputs": [],
   "source": []
  },
  {
   "cell_type": "markdown",
   "id": "a45cebfe",
   "metadata": {},
   "source": [
    "### Iteradores"
   ]
  },
  {
   "cell_type": "code",
   "execution_count": null,
   "id": "99e084bf",
   "metadata": {},
   "outputs": [],
   "source": []
  },
  {
   "cell_type": "markdown",
   "id": "ea54eb17",
   "metadata": {},
   "source": [
    "### Ciclos en una sóla linea"
   ]
  },
  {
   "cell_type": "code",
   "execution_count": null,
   "id": "3643943c",
   "metadata": {},
   "outputs": [],
   "source": []
  }
 ],
 "metadata": {
  "kernelspec": {
   "display_name": "robotica",
   "language": "python",
   "name": "python3"
  },
  "language_info": {
   "name": "python",
   "version": "3.13.5"
  }
 },
 "nbformat": 4,
 "nbformat_minor": 5
}
