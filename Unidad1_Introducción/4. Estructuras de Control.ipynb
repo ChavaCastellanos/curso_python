{
 "cells": [
  {
   "cell_type": "markdown",
   "id": "c0c47d3e",
   "metadata": {},
   "source": [
    "# Actividad 4: Estructuras de Control\n",
    "\n",
    "## Condicionales\n",
    "\n",
    "### if ... else \n",
    "\n",
    "Una condición if tiene la estructura básica\n",
    "\n",
    "```\n",
    "if condición:\n",
    "    instrucción\n",
    "```\n",
    "\n",
    "También se puede añadir else\n",
    "\n",
    "```\n",
    "if condición:\n",
    "    instrucción_1\n",
    "else:\n",
    "    instrucción_2\n",
    "```\n",
    "\n",
    "Escribe el código para revisar si el valor de una variable `a` es mayor o igual que una variable `b`, si lo es imprime el texto \"a es mayor o igual que b\". "
   ]
  },
  {
   "cell_type": "code",
   "execution_count": null,
   "id": "8d8e722f",
   "metadata": {},
   "outputs": [],
   "source": []
  },
  {
   "cell_type": "markdown",
   "id": "5a220c40",
   "metadata": {},
   "source": [
    "Ahora añade `else` e imprime también si es que \"a no es mayor que b\"."
   ]
  },
  {
   "cell_type": "code",
   "execution_count": null,
   "id": "6c603805",
   "metadata": {},
   "outputs": [],
   "source": []
  },
  {
   "cell_type": "markdown",
   "id": "d4f4335b",
   "metadata": {},
   "source": [
    "### elif\n",
    "\n",
    "Esta estructura, te ayuda a revisar cuando la primera condición no aplica, intentar con una siguiente condición. Pueden añadirse cuantas condiciones como sea necesario.\n",
    "\n",
    "```\n",
    "if condición_1:\n",
    "    instrucción_1\n",
    "elif condición_2:\n",
    "    instrucción_2\n",
    "else:\n",
    "    instrucción_3\n",
    "```\n",
    "\n",
    "\n",
    "Ahora utiliza 3 variables, `a`, `b` y `c`. Si `a` es igua a `b`, imprime 'a es igual a b'; si no, revisa si `a` es igual a `c`, si lo es indícalo con 'a es igual a c'; haz lo mismo con `b` y `c`; por último, si no aplica ninguno de esos casos, imprime 'ninguno es igual'."
   ]
  },
  {
   "cell_type": "code",
   "execution_count": null,
   "id": "56601c35",
   "metadata": {},
   "outputs": [],
   "source": []
  },
  {
   "cell_type": "markdown",
   "id": "8789197d",
   "metadata": {},
   "source": [
    "### match\n",
    "\n",
    "Para evitar usar muchos `elif`, puedes utilizar la estructura `match`.\n",
    "```\n",
    "match expression:\n",
    "    case x:\n",
    "        code block\n",
    "    case y:\n",
    "        code block\n",
    "    case z:\n",
    "        code block \n",
    "    case _:\n",
    "        code block\n",
    "```\n",
    "Se evalúa la expresión después de match y se compara con cada uno de los casos. Si coincide con uno, se ejecuta el bloque de código correspondiente, si no se encuentra en ninguno, se ejecuta el default.\n",
    "\n",
    "En la siguiente celda, escribe una estructura match que revise una variable `dia` con un número entero y dependiendo del número imprima un día de la semana. E.g. si `dia` es 1, imprime 'lunes', si es 2 imprime 'martes', etc. Si no es ninguno, imprime 'día no válido'."
   ]
  },
  {
   "cell_type": "code",
   "execution_count": null,
   "id": "c0ff1823",
   "metadata": {},
   "outputs": [],
   "source": []
  },
  {
   "cell_type": "markdown",
   "id": "c7939b69",
   "metadata": {},
   "source": [
    "## Bucles\n",
    "\n",
    "Los bucles son útiles para ejecutar repetidamente una o varias instrucciones. Hay dos tipos, `for` y `while`.\n",
    "\n",
    "### Ciclo 'for'\n",
    "\n",
    "En general, el ciclo for en python nos permite repetir una instrucción(es) un número fijo de veces. Este numero está dado normalmente por un iterador, más adelante profundizaremos más en esto. La forma más fácil de definir el número de veces que se repite un ciclo `for` es con la función `range()`.\n",
    "\n",
    "Escribe en la siguiente celda el código para imprimir los números del 1 al 10 usando un ciclo `for` y la función `range()`.\n"
   ]
  },
  {
   "cell_type": "code",
   "execution_count": null,
   "id": "3c618295",
   "metadata": {},
   "outputs": [],
   "source": []
  },
  {
   "cell_type": "markdown",
   "id": "0563448e",
   "metadata": {},
   "source": [
    "### Ciclo 'while'\n",
    "\n",
    "El ciclo `while` nos permite repetir una o varias instrucciones mientras una condición se cumpla. Escribe en la siguiente celda un ciclo `while` que cumpla con la misma función que el ciclo `for` del ejercicio anterior."
   ]
  },
  {
   "cell_type": "code",
   "execution_count": null,
   "id": "4860e45c",
   "metadata": {},
   "outputs": [],
   "source": []
  },
  {
   "cell_type": "markdown",
   "id": "d7cbacc3",
   "metadata": {},
   "source": [
    "## Control de bucles\n",
    "\n",
    "Podemos usar otras expresiones para terminar la ejecución de un ciclo o saltarnos una iteración, para esto usamos `break` y `continue` respectivamente.\n",
    "\n",
    "### break\n",
    "\n",
    "Escribe en la siguiente celda un ciclo `while` que imprima los números crecientes hasta el 8, utiliza la instrucción `break` para detenerlo."
   ]
  },
  {
   "cell_type": "code",
   "execution_count": null,
   "id": "91a56bb9",
   "metadata": {},
   "outputs": [],
   "source": []
  },
  {
   "cell_type": "markdown",
   "id": "814dc8aa",
   "metadata": {},
   "source": [
    "### continue\n",
    "\n",
    "En la siguiente celda, escribe un ciclo `for` que muestre los números del 1 al 10 excepto el 7, utiliza la instrucción `continue` para lograr esto."
   ]
  },
  {
   "cell_type": "code",
   "execution_count": null,
   "id": "9b20e508",
   "metadata": {},
   "outputs": [],
   "source": []
  },
  {
   "cell_type": "markdown",
   "id": "d5938523",
   "metadata": {},
   "source": [
    "## Ciclos Avanzados\n",
    "\n",
    "### Iteradores\n",
    "\n",
    "Una de las características más útiles de los ciclos `for` en python es que pueden iterar fácilmente a través de listas, tuplas, conjuntos y diccionarios.\n",
    "\n",
    "En la siguiente celda, construye un ejemplo de cada una de esas estructuras de datos, luego utiliza un ciclo `for` para imprimir cada elemento de ellos."
   ]
  },
  {
   "cell_type": "code",
   "execution_count": null,
   "id": "2cacd735",
   "metadata": {},
   "outputs": [],
   "source": []
  },
  {
   "cell_type": "markdown",
   "id": "a45cebfe",
   "metadata": {},
   "source": [
    "### Ciclos Anidados\n",
    "Al igual que en casi cualquier lenguaje de programación, puedes anidar ciclos.\n",
    "\n",
    "Crea dos listas, una de _frutas_ y otra de _adjetivos_, usa ciclos anidados para imprimir todas las combinaciones de estas dos listas."
   ]
  },
  {
   "cell_type": "code",
   "execution_count": null,
   "id": "99e084bf",
   "metadata": {},
   "outputs": [],
   "source": []
  },
  {
   "cell_type": "markdown",
   "id": "ea54eb17",
   "metadata": {},
   "source": [
    "### Ciclos en una sóla linea\n",
    "\n",
    "Por último, veremos que puedes escribir ciertos ciclos en una sóla linea. Esta es (a mi parecer) la forma más complicada pero más compacta de escribir un ciclo en python.\n",
    "\n",
    "La forma más básica sería:\n",
    "\n",
    "`for iterador: instruccion`\n",
    "\n",
    "Pero también puedes crear iteradores de esta forma, ejemplo:\n",
    "\n",
    "`mi_lista = [i for i in range(1, 11)]`\n",
    "\n",
    "Prueba esta línea, analízala y ahora escribe otra instrucción parecida pero que construya una lista con el cuadrado de cada número."
   ]
  },
  {
   "cell_type": "code",
   "execution_count": null,
   "id": "3643943c",
   "metadata": {},
   "outputs": [],
   "source": []
  }
 ],
 "metadata": {
  "kernelspec": {
   "display_name": "robotica",
   "language": "python",
   "name": "python3"
  },
  "language_info": {
   "codemirror_mode": {
    "name": "ipython",
    "version": 3
   },
   "file_extension": ".py",
   "mimetype": "text/x-python",
   "name": "python",
   "nbconvert_exporter": "python",
   "pygments_lexer": "ipython3",
   "version": "3.13.5"
  }
 },
 "nbformat": 4,
 "nbformat_minor": 5
}
