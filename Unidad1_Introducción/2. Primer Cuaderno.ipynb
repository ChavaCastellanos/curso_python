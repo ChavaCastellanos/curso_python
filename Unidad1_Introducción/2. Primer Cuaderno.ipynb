{
 "cells": [
  {
   "cell_type": "markdown",
   "id": "e2183f8f",
   "metadata": {},
   "source": [
    "# Actividad 2: Conociendo los cuadernos de Jupyter\n",
    "\n",
    "¿Por qué usamos cuadernos en este curso?\n",
    "\n",
    "Hay muchas razones. La primera, en un cuaderno podemos incluir instrucciones en forma de texto, darle formato, insertar imágenes y un largo etcetera. Esto se hace en celdas llamadas *markdown*. También podemos escribir bloques de código y ejecutarlos en celdas de código *code*.\n",
    "\n",
    "La celda donde está escrito este texto es un ejemplo de *markdown*. Aquí encontrarás instrucciones, ejemplos y ayudas para completar las actividades.\n",
    "La siguiente celda es una de código, como primera actividad escribe la(s) instrucción(es) para imprimir un texto que diga 'Hola mundo!'. Una vez hayas escrito el código, ejecútalo dando click en *play* o bien, pulsando 'shift + enter.\n",
    "\n",
    "Consejo: usa la función `print`."
   ]
  },
  {
   "cell_type": "code",
   "execution_count": 2,
   "id": "00d7dc19",
   "metadata": {},
   "outputs": [],
   "source": [
    "# también puedes escribir comentarios en las celdas de código, usa # para eso"
   ]
  },
  {
   "cell_type": "markdown",
   "id": "1ac3d4a0",
   "metadata": {},
   "source": []
  }
 ],
 "metadata": {
  "kernelspec": {
   "display_name": "robotica",
   "language": "python",
   "name": "python3"
  },
  "language_info": {
   "codemirror_mode": {
    "name": "ipython",
    "version": 3
   },
   "file_extension": ".py",
   "mimetype": "text/x-python",
   "name": "python",
   "nbconvert_exporter": "python",
   "pygments_lexer": "ipython3",
   "version": "3.13.5"
  }
 },
 "nbformat": 4,
 "nbformat_minor": 5
}
