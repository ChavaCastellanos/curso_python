{
 "cells": [
  {
   "cell_type": "markdown",
   "id": "e2183f8f",
   "metadata": {},
   "source": [
    "# Actividad 2: Conociendo los cuadernos de Jupyter\n",
    "\n",
    "## ¿Por qué usamos cuadernos en este curso?\n",
    "\n",
    "Hay muchas razones. La primera, en un cuaderno podemos incluir instrucciones en forma de texto, darle formato, insertar imágenes y un largo etcetera. Esto se hace en celdas llamadas *markdown*. También podemos escribir bloques de código y ejecutarlos en celdas de código *code*.\n",
    "\n",
    "La celda donde está escrito este texto es un ejemplo de *markdown*. Aquí encontrarás instrucciones, ejemplos y ayudas para completar las actividades.\n",
    "La siguiente celda es una de código, como primera actividad escribe la(s) instrucción(es) para imprimir un texto que diga 'Hola mundo!'. Una vez hayas escrito el código, ejecútalo dando click en *play* o bien, pulsando 'shift + enter.\n",
    "\n",
    "Consejo: usa la función `print`."
   ]
  },
  {
   "cell_type": "code",
   "execution_count": null,
   "id": "00d7dc19",
   "metadata": {},
   "outputs": [],
   "source": [
    "# También puedes escribir comentarios en las celdas de código, usa # para esto."
   ]
  },
  {
   "cell_type": "markdown",
   "id": "1ac3d4a0",
   "metadata": {},
   "source": [
    "## Errores\n",
    "Una de las características que hacen a python más amigable al programador es el manejo de errores.\n",
    "Escribe un código erroneo en la siguiente celda y analiza el mensaje de error que aparecerá.\n",
    "\n",
    "Una habilidad muy útil e importante de los programadores, es la capacidad de debbugear su propio código igual que el ajeno. ¡Siempre presta atención a los mensajes de error!\n"
   ]
  },
  {
   "cell_type": "code",
   "execution_count": null,
   "id": "70f3cc8f-a3ed-4bc0-8e68-f28f493d0911",
   "metadata": {},
   "outputs": [],
   "source": []
  },
  {
   "cell_type": "markdown",
   "id": "916808a2",
   "metadata": {},
   "source": [
    "## Variables y Tipos de Datos\n",
    "\n",
    "Existen varios tipos de datos en Python. Estos incluyen entero (int), flotante (float), booleano (bool), cadena (str), lista (list), tupla (tuple), conjunto (set), diccionario (dict) y None."
   ]
  },
  {
   "cell_type": "code",
   "execution_count": null,
   "id": "fda4b4ea",
   "metadata": {},
   "outputs": [],
   "source": []
  },
  {
   "cell_type": "markdown",
   "id": "e7a5cbca",
   "metadata": {},
   "source": []
  }
 ],
 "metadata": {
  "kernelspec": {
   "display_name": "robotica",
   "language": "python",
   "name": "python3"
  },
  "language_info": {
   "codemirror_mode": {
    "name": "ipython",
    "version": 3
   },
   "file_extension": ".py",
   "mimetype": "text/x-python",
   "name": "python",
   "nbconvert_exporter": "python",
   "pygments_lexer": "ipython3",
   "version": "3.13.5"
  }
 },
 "nbformat": 4,
 "nbformat_minor": 5
}
