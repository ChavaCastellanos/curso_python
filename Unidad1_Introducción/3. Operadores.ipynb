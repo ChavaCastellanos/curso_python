{
 "cells": [
  {
   "cell_type": "markdown",
   "id": "140e2139",
   "metadata": {},
   "source": [
    "# Actividad 3: Operadores\n",
    "\n",
    "En este cuaderno, aprenderás a usar los operadores más comunes en python. Estos te ayudarán a hacer operaciones matemáticas y lógicas en tus programas.\n",
    "Los tipos de operadores que veremos son aritméticos, lógicos y de comparación. Cada uno tendrá su sección en este cuaderno.\n",
    "\n",
    "\n",
    "## Operadores Aritméticos\n",
    "\n",
    "Son, como lo dice su nombre, los que nos ayudan a hacer operaciones aritméticas con números.\n",
    "En la siguiente celda, declara dos variables, _a_ y _b_, asígnales un valor arbitrario a cada uno y calcula cada una de las siguientes operaciones:\n",
    "\n",
    "$sum = a+b$\n",
    "\n",
    "$res = a-b$\n",
    "\n",
    "$mul = a \\times b$\n",
    "\n",
    "$div = a \\div b$\n",
    "\n",
    "$modul = a \\: mod\\:  b$\n",
    "\n",
    "$exp = a^b$\n",
    "\n",
    "$piso = \\lfloor a \\div b \\rfloor $ (división entera, i.e. división con redondeo hacia abajo)\n",
    "\n",
    "\n",
    "Muestra los resultados de cada una de las operaciones. \n",
    "\n"
   ]
  },
  {
   "cell_type": "code",
   "execution_count": null,
   "id": "ebf79333",
   "metadata": {},
   "outputs": [],
   "source": []
  },
  {
   "cell_type": "markdown",
   "id": "551f9667",
   "metadata": {},
   "source": [
    "### Orden de Aplicación\n",
    "\n",
    "Las operaciónes siguen una jerarquía de aplicación.\n",
    "\n",
    "1. Paréntesis\n",
    "2. Exponente\n",
    "3. Negación\n",
    "4. Multiplicación, División, Módulo y División Entera\n",
    "5. Suma y Resta\n",
    "\n",
    "Escribe en la celda siguiente el código de python para las operaciones que se muestran a continuación. Muestra el resultado.\n",
    "\n",
    "$5 + (3 + 1)^2$\n",
    "\n",
    "$12 - 2(6-3)^2 \\div 3$\n",
    "\n",
    "$ \\frac{55}{6(3 - 2 )+5} + \\frac{2(3)^2}{8-2}$\n",
    "\n",
    "$\\frac{(5-4) + (4 - 1)^2}{5+(4-1)}$"
   ]
  },
  {
   "cell_type": "code",
   "execution_count": null,
   "id": "c5f3b310",
   "metadata": {},
   "outputs": [],
   "source": []
  },
  {
   "cell_type": "markdown",
   "id": "a0f11d84",
   "metadata": {},
   "source": [
    "## Operadores Lógicos\n",
    "\n",
    "Los operadores lógicos son _AND_, _OR_ y _NOT_. Estos trabajan principalmente con variables booleanas.\n",
    "\n",
    "- _AND_ retorna _True_ si ambas afirmaciones son verdaderas.\n",
    "- _OR_ retorna _True_ si una de las afirmaciones es verdadera.\n",
    "- _NOT_ retorna _True_ solo el la afirmación es falsa.\n",
    "\n",
    "En python, los comandos para estos operadores son `and`, `or` y `not`.\n",
    "Escribe en la siguiente celda dos ejemplos del uso de cada uno de estos operadores usando variables booleanas."
   ]
  },
  {
   "cell_type": "code",
   "execution_count": null,
   "id": "a5f4a79f",
   "metadata": {},
   "outputs": [],
   "source": []
  },
  {
   "cell_type": "markdown",
   "id": "2db56968",
   "metadata": {},
   "source": [
    "## Operadores de Comparación\n",
    "\n",
    "Como lo dice su nombre, estos operadores se utilizan para comparar dos valores.\n",
    "\n",
    "- Igual que `==`\n",
    "- Diferente que `!=`\n",
    "- Mayor que `>`\n",
    "- Menor que `<`\n",
    "- Mayor o igual que `>=`\n",
    "- Menor o igual que `<=`\n",
    "\n",
    "En la siguiente celda, escribe un ejemplo de cada uno utilizando dos variables `A` y `B` a las cuales les debes asignar un valor arbitrario. Cambia los valores de `A` y `B` para que observes el efecto de cada operador."
   ]
  },
  {
   "cell_type": "code",
   "execution_count": null,
   "id": "3e95de4c",
   "metadata": {},
   "outputs": [],
   "source": []
  },
  {
   "cell_type": "markdown",
   "id": "70ea5f33",
   "metadata": {},
   "source": [
    "## Combinación de Operadores Lógicos y de Comparación\n",
    "\n",
    "El resultado de un operador de comparación es un valor booleano, el cuál puede usarse en conjunto con otras comparaciones como afirmaciones lógicas.\n",
    "En las siguientes celdas responde a los ejercicios.\n",
    "\n",
    "Escribe el código para saber si se debe aplicar un descuento a una persona. Las condiciones de este descuento son que la persona tenga entre 15 y 21 años o que sea estudiante."
   ]
  },
  {
   "cell_type": "code",
   "execution_count": null,
   "id": "81b97bf3",
   "metadata": {},
   "outputs": [],
   "source": []
  },
  {
   "cell_type": "markdown",
   "id": "43a66498",
   "metadata": {},
   "source": [
    "Verifica si una persona califica para un préstamo, si para ello debe tener mínimo 30,000 USD de ingreso anual y debe tener buen historial crediticio."
   ]
  },
  {
   "cell_type": "code",
   "execution_count": null,
   "id": "67dbdb28",
   "metadata": {},
   "outputs": [],
   "source": []
  },
  {
   "cell_type": "markdown",
   "id": "2a05c914",
   "metadata": {},
   "source": [
    "Revisa si una persona puede entrar a un evento, si el evento sólo pueden entrar mayores de edad o personas con invitación especial."
   ]
  },
  {
   "cell_type": "code",
   "execution_count": null,
   "id": "29916414",
   "metadata": {},
   "outputs": [],
   "source": []
  }
 ],
 "metadata": {
  "kernelspec": {
   "display_name": "robotica",
   "language": "python",
   "name": "python3"
  },
  "language_info": {
   "codemirror_mode": {
    "name": "ipython",
    "version": 3
   },
   "file_extension": ".py",
   "mimetype": "text/x-python",
   "name": "python",
   "nbconvert_exporter": "python",
   "pygments_lexer": "ipython3",
   "version": "3.13.5"
  }
 },
 "nbformat": 4,
 "nbformat_minor": 5
}
