{
 "cells": [
  {
   "cell_type": "markdown",
   "id": "140e2139",
   "metadata": {},
   "source": [
    "# Actividad 3: Operadores\n",
    "\n",
    "En este cuaderno, aprenderás a usar los operadores más comunes en python. Estos te ayudarán a hacer operaciones matemáticas y lógicas en tus programas.\n",
    "Los tipos de operadores que veremos son aritméticos, lógicos y de comparación. Cada uno tendrá su sección en este cuaderno.\n",
    "\n",
    "\n",
    "## Operadores Aritméticos\n",
    "\n",
    "Son, como lo dice su nombre, los que nos ayudan a hacer operaciones aritméticas con números.\n",
    "En la siguiente celda, declara dos variables, _a_ y _b_, asígnales un valor arbitrario a cada uno y calcula cada una de las siguientes operaciones:\n",
    "\n",
    "$sum = a+b$\n",
    "\n",
    "$res = a-b$\n",
    "\n",
    "$mul = a \\times b$\n",
    "\n",
    "$div = a \\div b$\n",
    "\n",
    "$modul = a \\: mod\\:  b$\n",
    "\n",
    "$exp = a^b$\n",
    "\n",
    "$piso = \\lfloor a \\div b \\rfloor $ (división entera)\n",
    "\n",
    "\n",
    "Muestra los resultados de cada una de las operaciones. \n",
    "\n"
   ]
  },
  {
   "cell_type": "code",
   "execution_count": null,
   "id": "ebf79333",
   "metadata": {},
   "outputs": [],
   "source": []
  },
  {
   "cell_type": "markdown",
   "id": "551f9667",
   "metadata": {},
   "source": [
    "### Orden de Aplicación\n",
    "\n",
    "Las operaciónes siguen una jerarquía de aplicación.\n",
    "\n",
    "1. Paréntesis\n",
    "2. Exponente\n",
    "3. Negación\n",
    "4. Multiplicación, División, Módulo y División Entera\n",
    "5. Suma y Resta"
   ]
  },
  {
   "cell_type": "code",
   "execution_count": null,
   "id": "c5f3b310",
   "metadata": {},
   "outputs": [],
   "source": []
  },
  {
   "cell_type": "markdown",
   "id": "a0f11d84",
   "metadata": {},
   "source": [
    "## Operadores Lógicos"
   ]
  },
  {
   "cell_type": "code",
   "execution_count": null,
   "id": "a5f4a79f",
   "metadata": {},
   "outputs": [],
   "source": []
  },
  {
   "cell_type": "markdown",
   "id": "2db56968",
   "metadata": {},
   "source": [
    "## Operadores de Comparación"
   ]
  },
  {
   "cell_type": "code",
   "execution_count": null,
   "id": "3e95de4c",
   "metadata": {},
   "outputs": [],
   "source": []
  }
 ],
 "metadata": {
  "kernelspec": {
   "display_name": "robotica",
   "language": "python",
   "name": "python3"
  },
  "language_info": {
   "codemirror_mode": {
    "name": "ipython",
    "version": 3
   },
   "file_extension": ".py",
   "mimetype": "text/x-python",
   "name": "python",
   "nbconvert_exporter": "python",
   "pygments_lexer": "ipython3",
   "version": "3.13.5"
  }
 },
 "nbformat": 4,
 "nbformat_minor": 5
}
