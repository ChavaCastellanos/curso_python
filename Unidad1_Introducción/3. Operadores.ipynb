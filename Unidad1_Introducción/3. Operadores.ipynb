{
 "cells": [
  {
   "cell_type": "markdown",
   "id": "140e2139",
   "metadata": {},
   "source": [
    "# Actividad 3: Operadores"
   ]
  },
  {
   "cell_type": "code",
   "execution_count": null,
   "id": "ebf79333",
   "metadata": {
    "vscode": {
     "languageId": "plaintext"
    }
   },
   "outputs": [],
   "source": []
  },
  {
   "cell_type": "markdown",
   "id": "a0f11d84",
   "metadata": {},
   "source": []
  },
  {
   "cell_type": "code",
   "execution_count": null,
   "id": "a5f4a79f",
   "metadata": {
    "vscode": {
     "languageId": "plaintext"
    }
   },
   "outputs": [],
   "source": []
  }
 ],
 "metadata": {
  "language_info": {
   "name": "python"
  }
 },
 "nbformat": 4,
 "nbformat_minor": 5
}
