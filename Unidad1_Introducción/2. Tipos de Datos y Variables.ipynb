{
 "cells": [
  {
   "cell_type": "markdown",
   "id": "e2183f8f",
   "metadata": {},
   "source": [
    "# Actividad 2: Conociendo los cuadernos de Jupyter\n",
    "\n",
    "## ¿Por qué usamos cuadernos en este curso?\n",
    "\n",
    "Hay muchas razones. La primera, en un cuaderno podemos incluir instrucciones en forma de texto, darle formato, insertar imágenes y un largo etcetera. Esto se hace en celdas llamadas *markdown*. También podemos escribir bloques de código y ejecutarlos en celdas de código *code*.\n",
    "\n",
    "La celda donde está escrito este texto es un ejemplo de *markdown*. Aquí encontrarás instrucciones, ejemplos y ayudas para completar las actividades.\n",
    "La siguiente celda es una de código, como primera actividad escribe la(s) instrucción(es) para imprimir un texto que diga 'Hola mundo!'. Una vez hayas escrito el código, ejecútalo dando click en *play* o bien, pulsando 'shift + enter.\n",
    "\n",
    "Consejo: usa la función `print`."
   ]
  },
  {
   "cell_type": "code",
   "execution_count": null,
   "id": "00d7dc19",
   "metadata": {},
   "outputs": [],
   "source": [
    "# También puedes escribir comentarios en las celdas de código, usa # para esto."
   ]
  },
  {
   "cell_type": "markdown",
   "id": "1ac3d4a0",
   "metadata": {},
   "source": [
    "## Errores\n",
    "Una de las características que hacen a python más amigable al programador es el manejo de errores.\n",
    "Escribe un código erroneo en la siguiente celda y analiza el mensaje de error que aparecerá.\n",
    "\n",
    "Una habilidad muy útil e importante de los programadores, es la capacidad de debbugear su propio, o el código ajeno. ¡Siempre presta atención a los mensajes de error!\n"
   ]
  },
  {
   "cell_type": "code",
   "execution_count": null,
   "id": "70f3cc8f-a3ed-4bc0-8e68-f28f493d0911",
   "metadata": {},
   "outputs": [],
   "source": []
  },
  {
   "cell_type": "markdown",
   "id": "916808a2",
   "metadata": {},
   "source": [
    "## Tipos de Datos\n",
    "\n",
    "Existen varios tipos de datos en Python. Estos incluyen entero (int), flotante (float), booleano (bool), cadena (str).\n",
    "En la siguiente celda, imprime un ejemplo de cada uno de estos tipos de datos."
   ]
  },
  {
   "cell_type": "code",
   "execution_count": null,
   "id": "fda4b4ea",
   "metadata": {},
   "outputs": [],
   "source": []
  },
  {
   "cell_type": "markdown",
   "id": "e7a5cbca",
   "metadata": {},
   "source": [
    "Utiliza la función `type()` para imprimir tipos los tipos de datos que usaste en el ejercicio anterior. "
   ]
  },
  {
   "cell_type": "code",
   "execution_count": null,
   "id": "183c6509",
   "metadata": {},
   "outputs": [],
   "source": []
  },
  {
   "cell_type": "markdown",
   "id": "cc22dd9c",
   "metadata": {},
   "source": [
    "¿Qué tipo de dato es el número $9.0$ ? Responde con un comentario en la siguiente celda, puedes ademas comprobar con la función `type()`."
   ]
  },
  {
   "cell_type": "code",
   "execution_count": null,
   "id": "6afaed82",
   "metadata": {},
   "outputs": [],
   "source": [
    "# El número 9.0 es un\n"
   ]
  },
  {
   "cell_type": "markdown",
   "id": "ba552638",
   "metadata": {},
   "source": [
    "¿Qué tipo de dato se imprime en los siguientes ejemplos?\n",
    "\n",
    "`print(\" \")`\n",
    "\n",
    "`print(\"¡Hay una serpiente en mi bota!\")`\n",
    "\n",
    "`print('True')`"
   ]
  },
  {
   "cell_type": "code",
   "execution_count": null,
   "id": "acb72c34",
   "metadata": {},
   "outputs": [],
   "source": [
    "# Responde aquí con un comentario, puedes apoyarte de la función `type()` "
   ]
  },
  {
   "cell_type": "markdown",
   "id": "7be2300c",
   "metadata": {},
   "source": [
    "## Variables\n",
    "Una variable es un espacio en memoria que tiene un nombre simbólico asociado. Ejemplo:\n",
    "\n",
    "`edad = 19`\n",
    "\n",
    "`nombre = “Juanito”`\n",
    "\n",
    "Las variables pueden tomar cualquier valor de los tipos que vimos en la sección anterior. En la siguiente celda declara una variable de cada tipo."
   ]
  },
  {
   "cell_type": "code",
   "execution_count": null,
   "id": "13c33ca8",
   "metadata": {},
   "outputs": [],
   "source": []
  }
 ],
 "metadata": {
  "kernelspec": {
   "display_name": "robotica",
   "language": "python",
   "name": "python3"
  },
  "language_info": {
   "codemirror_mode": {
    "name": "ipython",
    "version": 3
   },
   "file_extension": ".py",
   "mimetype": "text/x-python",
   "name": "python",
   "nbconvert_exporter": "python",
   "pygments_lexer": "ipython3",
   "version": "3.13.5"
  }
 },
 "nbformat": 4,
 "nbformat_minor": 5
}
